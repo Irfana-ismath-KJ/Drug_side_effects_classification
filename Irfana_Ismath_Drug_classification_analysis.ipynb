{
 "cells": [
  {
   "cell_type": "markdown",
   "id": "c1b7a189",
   "metadata": {},
   "source": [
    "# Classification of drug side effect"
   ]
  },
  {
   "cell_type": "markdown",
   "id": "a8658579",
   "metadata": {},
   "source": [
    "Drug safety is of paramount importance in the pharmaceutical industry. Every medication comes with its own set of potential side effects, which can vary from mild discomfort to severe health risks. Understanding and predicting these side effects is crucial for healthcare professionals, drug manufacturers, and, most importantly, patient well-being.\n",
    "\n",
    "In this project, the approach used is machine learning technique for evaluating all the features that influences the side effects of a drug and attempts to choose the most significant features and build a system based on these features to classify the side effects of a drug. The proposed system classifies the side effects of a drug based on age, genders and race from the gathering of past data.\n"
   ]
  },
  {
   "cell_type": "markdown",
   "id": "6052a48e",
   "metadata": {},
   "source": [
    "The following are the necessary tasks that needs to be performed<br>\n",
    "**.Understanding the dataset<br>**\n",
    "**.Data Pre-processing<br>**\n",
    "\n",
    "       .Handling whitespaces\n",
    "       .Missing Values \n",
    "       .Text processing\n",
    "       .Outlier Detection and handling\n",
    "       .Feature Engineering\n",
    "       .Feature Reduction\n",
    "       .Feature Encoding\n",
    "       .Feature Scaling\n",
    "       \n",
    "**.Exploratory Data Analysis<br>**\n",
    "**.Predictive Modeling<br>**\n",
    "\n",
    "       .Logistic Regression \n",
    "       .KNN  \n",
    "       .DecisionTree \n",
    "       .SVM\n",
    "       .Random Forest\n",
    "       .Gradient boosting\n",
    "       .Extreme Gradient boosting\n",
    "       "
   ]
  },
  {
   "cell_type": "markdown",
   "id": "866849b2",
   "metadata": {},
   "source": [
    "**Importing necessary libraries**"
   ]
  },
  {
   "cell_type": "code",
   "execution_count": 1,
   "id": "440bf0d3",
   "metadata": {},
   "outputs": [
    {
     "name": "stdout",
     "output_type": "stream",
     "text": [
      "Requirement already satisfied: faker in c:\\users\\z i m b a\\anaconda3\\lib\\site-packages (19.9.0)\n",
      "Requirement already satisfied: python-dateutil>=2.4 in c:\\users\\z i m b a\\anaconda3\\lib\\site-packages (from faker) (2.8.2)\n",
      "Requirement already satisfied: six>=1.5 in c:\\users\\z i m b a\\anaconda3\\lib\\site-packages (from python-dateutil>=2.4->faker) (1.16.0)\n",
      "Note: you may need to restart the kernel to use updated packages.\n"
     ]
    }
   ],
   "source": [
    "pip install faker"
   ]
  },
  {
   "cell_type": "code",
   "execution_count": 2,
   "id": "835d871f",
   "metadata": {},
   "outputs": [],
   "source": [
    "from faker import Faker\n",
    "import numpy as np\n",
    "import pandas as pd\n",
    "from random import choice, sample\n",
    "import matplotlib.pyplot as plt\n",
    "import seaborn as sns\n",
    "%matplotlib inline\n",
    "\n",
    "import warnings\n",
    "warnings.filterwarnings('ignore')"
   ]
  },
  {
   "cell_type": "code",
   "execution_count": 3,
   "id": "e6478180",
   "metadata": {},
   "outputs": [],
   "source": [
    "df = Faker()"
   ]
  },
  {
   "cell_type": "markdown",
   "id": "f766be52",
   "metadata": {},
   "source": [
    "**Creating name column with Faker**"
   ]
  },
  {
   "cell_type": "code",
   "execution_count": 4,
   "id": "0394b42e",
   "metadata": {},
   "outputs": [],
   "source": [
    "def create_names(n):\n",
    "   name = []\n",
    "   for _ in range(0, n):\n",
    "        name.append(df.name())\n",
    "   return name"
   ]
  },
  {
   "cell_type": "code",
   "execution_count": 5,
   "id": "acf9041c",
   "metadata": {},
   "outputs": [],
   "source": [
    "name = create_names(362806)"
   ]
  },
  {
   "cell_type": "code",
   "execution_count": 6,
   "id": "3e566499",
   "metadata": {},
   "outputs": [],
   "source": [
    "df_name = pd.DataFrame(list(zip(name)),columns = ['Name'])"
   ]
  },
  {
   "cell_type": "code",
   "execution_count": 7,
   "id": "b482698a",
   "metadata": {},
   "outputs": [
    {
     "data": {
      "text/html": [
       "<div>\n",
       "<style scoped>\n",
       "    .dataframe tbody tr th:only-of-type {\n",
       "        vertical-align: middle;\n",
       "    }\n",
       "\n",
       "    .dataframe tbody tr th {\n",
       "        vertical-align: top;\n",
       "    }\n",
       "\n",
       "    .dataframe thead th {\n",
       "        text-align: right;\n",
       "    }\n",
       "</style>\n",
       "<table border=\"1\" class=\"dataframe\">\n",
       "  <thead>\n",
       "    <tr style=\"text-align: right;\">\n",
       "      <th></th>\n",
       "      <th>Name</th>\n",
       "    </tr>\n",
       "  </thead>\n",
       "  <tbody>\n",
       "    <tr>\n",
       "      <th>0</th>\n",
       "      <td>Donald Thomas</td>\n",
       "    </tr>\n",
       "    <tr>\n",
       "      <th>1</th>\n",
       "      <td>Jeffrey Mack</td>\n",
       "    </tr>\n",
       "    <tr>\n",
       "      <th>2</th>\n",
       "      <td>Briana Cox</td>\n",
       "    </tr>\n",
       "    <tr>\n",
       "      <th>3</th>\n",
       "      <td>Kenneth Dorsey</td>\n",
       "    </tr>\n",
       "    <tr>\n",
       "      <th>4</th>\n",
       "      <td>Mark Meyers</td>\n",
       "    </tr>\n",
       "  </tbody>\n",
       "</table>\n",
       "</div>"
      ],
      "text/plain": [
       "             Name\n",
       "0   Donald Thomas\n",
       "1    Jeffrey Mack\n",
       "2      Briana Cox\n",
       "3  Kenneth Dorsey\n",
       "4     Mark Meyers"
      ]
     },
     "execution_count": 7,
     "metadata": {},
     "output_type": "execute_result"
    }
   ],
   "source": [
    "df_name.head()"
   ]
  },
  {
   "cell_type": "code",
   "execution_count": 8,
   "id": "a1d5fed1",
   "metadata": {},
   "outputs": [
    {
     "data": {
      "text/plain": [
       "(362806, 1)"
      ]
     },
     "execution_count": 8,
     "metadata": {},
     "output_type": "execute_result"
    }
   ],
   "source": [
    "df_name.shape"
   ]
  },
  {
   "cell_type": "markdown",
   "id": "9fdb9f5e",
   "metadata": {},
   "source": [
    "**Creating race column**"
   ]
  },
  {
   "cell_type": "code",
   "execution_count": 9,
   "id": "003dc723",
   "metadata": {},
   "outputs": [],
   "source": [
    "def weighted_cartesian_choice(*iterables):\n",
    "    # An arbitrary number of tuple or lists,each consisting of population and weights.weighted_cartesian_choice returns a list \n",
    "    #with a chocie from each population\n",
    "    \n",
    "    res = []\n",
    "    for population, weights in iterables:\n",
    "     #normalize weight:\n",
    "        weights = np.array(weights) / sum(weights)\n",
    "        lst = np.random.choice(population, p=weights)\n",
    "        res.append(lst)\n",
    "    return res\n",
    "race = (['White','Hispanic', 'Black','Asian'], \n",
    "        [.32,.28,.22,.18])\n",
    "\n",
    "list=[]\n",
    "for i in range(362806):\n",
    "    res = weighted_cartesian_choice(race)\n",
    "    list.append(res)"
   ]
  },
  {
   "cell_type": "code",
   "execution_count": 10,
   "id": "68043820",
   "metadata": {},
   "outputs": [],
   "source": [
    "df_race=pd.DataFrame(list, columns = ['Race'])"
   ]
  },
  {
   "cell_type": "code",
   "execution_count": 11,
   "id": "6c23ad53",
   "metadata": {},
   "outputs": [
    {
     "data": {
      "text/html": [
       "<div>\n",
       "<style scoped>\n",
       "    .dataframe tbody tr th:only-of-type {\n",
       "        vertical-align: middle;\n",
       "    }\n",
       "\n",
       "    .dataframe tbody tr th {\n",
       "        vertical-align: top;\n",
       "    }\n",
       "\n",
       "    .dataframe thead th {\n",
       "        text-align: right;\n",
       "    }\n",
       "</style>\n",
       "<table border=\"1\" class=\"dataframe\">\n",
       "  <thead>\n",
       "    <tr style=\"text-align: right;\">\n",
       "      <th></th>\n",
       "      <th>Race</th>\n",
       "    </tr>\n",
       "  </thead>\n",
       "  <tbody>\n",
       "    <tr>\n",
       "      <th>0</th>\n",
       "      <td>White</td>\n",
       "    </tr>\n",
       "    <tr>\n",
       "      <th>1</th>\n",
       "      <td>Hispanic</td>\n",
       "    </tr>\n",
       "    <tr>\n",
       "      <th>2</th>\n",
       "      <td>Asian</td>\n",
       "    </tr>\n",
       "    <tr>\n",
       "      <th>3</th>\n",
       "      <td>White</td>\n",
       "    </tr>\n",
       "    <tr>\n",
       "      <th>4</th>\n",
       "      <td>White</td>\n",
       "    </tr>\n",
       "  </tbody>\n",
       "</table>\n",
       "</div>"
      ],
      "text/plain": [
       "       Race\n",
       "0     White\n",
       "1  Hispanic\n",
       "2     Asian\n",
       "3     White\n",
       "4     White"
      ]
     },
     "execution_count": 11,
     "metadata": {},
     "output_type": "execute_result"
    }
   ],
   "source": [
    "df_race.head()"
   ]
  },
  {
   "cell_type": "markdown",
   "id": "b84c334c",
   "metadata": {},
   "source": [
    "**Concatenating name and race columns**"
   ]
  },
  {
   "cell_type": "code",
   "execution_count": 12,
   "id": "cdad64c4",
   "metadata": {},
   "outputs": [],
   "source": [
    "df_nr = pd.concat([df_name, df_race], axis=1).reindex(df_race.index)"
   ]
  },
  {
   "cell_type": "code",
   "execution_count": 13,
   "id": "d56fa928",
   "metadata": {},
   "outputs": [],
   "source": [
    "df_drugs = pd.read_csv(r'C:\\Users\\Z I M B A\\Downloads\\webmD.csv')"
   ]
  },
  {
   "cell_type": "code",
   "execution_count": 14,
   "id": "c0c6b971",
   "metadata": {},
   "outputs": [],
   "source": [
    "#Creating the final dataset"
   ]
  },
  {
   "cell_type": "code",
   "execution_count": 15,
   "id": "15ee06a8",
   "metadata": {},
   "outputs": [],
   "source": [
    "data_drugs = pd.concat([df_nr, df_drugs], axis=1).reindex(df_drugs.index)"
   ]
  },
  {
   "cell_type": "code",
   "execution_count": 16,
   "id": "25210ae8",
   "metadata": {},
   "outputs": [
    {
     "data": {
      "text/html": [
       "<div>\n",
       "<style scoped>\n",
       "    .dataframe tbody tr th:only-of-type {\n",
       "        vertical-align: middle;\n",
       "    }\n",
       "\n",
       "    .dataframe tbody tr th {\n",
       "        vertical-align: top;\n",
       "    }\n",
       "\n",
       "    .dataframe thead th {\n",
       "        text-align: right;\n",
       "    }\n",
       "</style>\n",
       "<table border=\"1\" class=\"dataframe\">\n",
       "  <thead>\n",
       "    <tr style=\"text-align: right;\">\n",
       "      <th></th>\n",
       "      <th>Name</th>\n",
       "      <th>Race</th>\n",
       "      <th>Age</th>\n",
       "      <th>Condition</th>\n",
       "      <th>Date</th>\n",
       "      <th>Drug</th>\n",
       "      <th>DrugId</th>\n",
       "      <th>EaseofUse</th>\n",
       "      <th>Effectiveness</th>\n",
       "      <th>Reviews</th>\n",
       "      <th>Satisfaction</th>\n",
       "      <th>Sex</th>\n",
       "      <th>Sides</th>\n",
       "      <th>UsefulCount</th>\n",
       "    </tr>\n",
       "  </thead>\n",
       "  <tbody>\n",
       "    <tr>\n",
       "      <th>0</th>\n",
       "      <td>Donald Thomas</td>\n",
       "      <td>White</td>\n",
       "      <td>75 or over</td>\n",
       "      <td>Stuffy Nose</td>\n",
       "      <td>9/21/2014</td>\n",
       "      <td>25dph-7.5peh</td>\n",
       "      <td>146724</td>\n",
       "      <td>5</td>\n",
       "      <td>5</td>\n",
       "      <td>I'm a retired physician and of all the meds I ...</td>\n",
       "      <td>5</td>\n",
       "      <td>Male</td>\n",
       "      <td>Drowsiness,  dizziness ,  dry mouth /nose/thro...</td>\n",
       "      <td>0</td>\n",
       "    </tr>\n",
       "    <tr>\n",
       "      <th>1</th>\n",
       "      <td>Jeffrey Mack</td>\n",
       "      <td>Hispanic</td>\n",
       "      <td>25-34</td>\n",
       "      <td>Cold Symptoms</td>\n",
       "      <td>1/13/2011</td>\n",
       "      <td>25dph-7.5peh</td>\n",
       "      <td>146724</td>\n",
       "      <td>5</td>\n",
       "      <td>5</td>\n",
       "      <td>cleared me right up even with my throat hurtin...</td>\n",
       "      <td>5</td>\n",
       "      <td>Female</td>\n",
       "      <td>Drowsiness,  dizziness ,  dry mouth /nose/thro...</td>\n",
       "      <td>1</td>\n",
       "    </tr>\n",
       "    <tr>\n",
       "      <th>2</th>\n",
       "      <td>Briana Cox</td>\n",
       "      <td>Asian</td>\n",
       "      <td>65-74</td>\n",
       "      <td>Other</td>\n",
       "      <td>7/16/2012</td>\n",
       "      <td>warfarin (bulk) 100 % powder</td>\n",
       "      <td>144731</td>\n",
       "      <td>2</td>\n",
       "      <td>3</td>\n",
       "      <td>why did my PTINR go from a normal of 2.5 to ov...</td>\n",
       "      <td>3</td>\n",
       "      <td>Female</td>\n",
       "      <td></td>\n",
       "      <td>0</td>\n",
       "    </tr>\n",
       "    <tr>\n",
       "      <th>3</th>\n",
       "      <td>Kenneth Dorsey</td>\n",
       "      <td>White</td>\n",
       "      <td>75 or over</td>\n",
       "      <td>Other</td>\n",
       "      <td>9/23/2010</td>\n",
       "      <td>warfarin (bulk) 100 % powder</td>\n",
       "      <td>144731</td>\n",
       "      <td>2</td>\n",
       "      <td>2</td>\n",
       "      <td>FALLING AND DON'T REALISE IT</td>\n",
       "      <td>1</td>\n",
       "      <td>Female</td>\n",
       "      <td></td>\n",
       "      <td>0</td>\n",
       "    </tr>\n",
       "    <tr>\n",
       "      <th>4</th>\n",
       "      <td>Mark Meyers</td>\n",
       "      <td>White</td>\n",
       "      <td>35-44</td>\n",
       "      <td>Other</td>\n",
       "      <td>01-06-2009</td>\n",
       "      <td>warfarin (bulk) 100 % powder</td>\n",
       "      <td>144731</td>\n",
       "      <td>1</td>\n",
       "      <td>1</td>\n",
       "      <td>My grandfather was prescribed this medication ...</td>\n",
       "      <td>1</td>\n",
       "      <td>Male</td>\n",
       "      <td></td>\n",
       "      <td>1</td>\n",
       "    </tr>\n",
       "  </tbody>\n",
       "</table>\n",
       "</div>"
      ],
      "text/plain": [
       "             Name      Race         Age      Condition        Date  \\\n",
       "0   Donald Thomas     White  75 or over    Stuffy Nose   9/21/2014   \n",
       "1    Jeffrey Mack  Hispanic       25-34  Cold Symptoms   1/13/2011   \n",
       "2      Briana Cox     Asian       65-74          Other   7/16/2012   \n",
       "3  Kenneth Dorsey     White  75 or over          Other   9/23/2010   \n",
       "4     Mark Meyers     White       35-44          Other  01-06-2009   \n",
       "\n",
       "                           Drug  DrugId  EaseofUse  Effectiveness  \\\n",
       "0                  25dph-7.5peh  146724          5              5   \n",
       "1                  25dph-7.5peh  146724          5              5   \n",
       "2  warfarin (bulk) 100 % powder  144731          2              3   \n",
       "3  warfarin (bulk) 100 % powder  144731          2              2   \n",
       "4  warfarin (bulk) 100 % powder  144731          1              1   \n",
       "\n",
       "                                             Reviews  Satisfaction     Sex  \\\n",
       "0  I'm a retired physician and of all the meds I ...             5    Male   \n",
       "1  cleared me right up even with my throat hurtin...             5  Female   \n",
       "2  why did my PTINR go from a normal of 2.5 to ov...             3  Female   \n",
       "3                       FALLING AND DON'T REALISE IT             1  Female   \n",
       "4  My grandfather was prescribed this medication ...             1    Male   \n",
       "\n",
       "                                               Sides  UsefulCount  \n",
       "0  Drowsiness,  dizziness ,  dry mouth /nose/thro...            0  \n",
       "1  Drowsiness,  dizziness ,  dry mouth /nose/thro...            1  \n",
       "2                                                               0  \n",
       "3                                                               0  \n",
       "4                                                               1  "
      ]
     },
     "execution_count": 16,
     "metadata": {},
     "output_type": "execute_result"
    }
   ],
   "source": [
    "data_drugs.head()"
   ]
  },
  {
   "cell_type": "markdown",
   "id": "c561f345",
   "metadata": {},
   "source": [
    "**Converting the dataframe to csv file**"
   ]
  },
  {
   "cell_type": "code",
   "execution_count": 17,
   "id": "87847c8b",
   "metadata": {},
   "outputs": [],
   "source": [
    "data_drugs = data_drugs.to_csv(r'C:\\Users\\Z I M B A\\Downloads\\dataset_drugs.csv', index=False)"
   ]
  },
  {
   "cell_type": "markdown",
   "id": "640e89a8",
   "metadata": {},
   "source": [
    "## Loading the dataset"
   ]
  },
  {
   "cell_type": "code",
   "execution_count": 18,
   "id": "7c8da4f7",
   "metadata": {},
   "outputs": [],
   "source": [
    "data = pd.read_csv(r'C:\\Users\\Z I M B A\\Downloads\\dataset_drugs.csv')"
   ]
  },
  {
   "cell_type": "code",
   "execution_count": 19,
   "id": "a662f2e5",
   "metadata": {},
   "outputs": [
    {
     "data": {
      "text/html": [
       "<div>\n",
       "<style scoped>\n",
       "    .dataframe tbody tr th:only-of-type {\n",
       "        vertical-align: middle;\n",
       "    }\n",
       "\n",
       "    .dataframe tbody tr th {\n",
       "        vertical-align: top;\n",
       "    }\n",
       "\n",
       "    .dataframe thead th {\n",
       "        text-align: right;\n",
       "    }\n",
       "</style>\n",
       "<table border=\"1\" class=\"dataframe\">\n",
       "  <thead>\n",
       "    <tr style=\"text-align: right;\">\n",
       "      <th></th>\n",
       "      <th>Name</th>\n",
       "      <th>Race</th>\n",
       "      <th>Age</th>\n",
       "      <th>Condition</th>\n",
       "      <th>Date</th>\n",
       "      <th>Drug</th>\n",
       "      <th>DrugId</th>\n",
       "      <th>EaseofUse</th>\n",
       "      <th>Effectiveness</th>\n",
       "      <th>Reviews</th>\n",
       "      <th>Satisfaction</th>\n",
       "      <th>Sex</th>\n",
       "      <th>Sides</th>\n",
       "      <th>UsefulCount</th>\n",
       "    </tr>\n",
       "  </thead>\n",
       "  <tbody>\n",
       "    <tr>\n",
       "      <th>0</th>\n",
       "      <td>Donald Thomas</td>\n",
       "      <td>White</td>\n",
       "      <td>75 or over</td>\n",
       "      <td>Stuffy Nose</td>\n",
       "      <td>9/21/2014</td>\n",
       "      <td>25dph-7.5peh</td>\n",
       "      <td>146724</td>\n",
       "      <td>5</td>\n",
       "      <td>5</td>\n",
       "      <td>I'm a retired physician and of all the meds I ...</td>\n",
       "      <td>5</td>\n",
       "      <td>Male</td>\n",
       "      <td>Drowsiness,  dizziness ,  dry mouth /nose/thro...</td>\n",
       "      <td>0</td>\n",
       "    </tr>\n",
       "    <tr>\n",
       "      <th>1</th>\n",
       "      <td>Jeffrey Mack</td>\n",
       "      <td>Hispanic</td>\n",
       "      <td>25-34</td>\n",
       "      <td>Cold Symptoms</td>\n",
       "      <td>1/13/2011</td>\n",
       "      <td>25dph-7.5peh</td>\n",
       "      <td>146724</td>\n",
       "      <td>5</td>\n",
       "      <td>5</td>\n",
       "      <td>cleared me right up even with my throat hurtin...</td>\n",
       "      <td>5</td>\n",
       "      <td>Female</td>\n",
       "      <td>Drowsiness,  dizziness ,  dry mouth /nose/thro...</td>\n",
       "      <td>1</td>\n",
       "    </tr>\n",
       "    <tr>\n",
       "      <th>2</th>\n",
       "      <td>Briana Cox</td>\n",
       "      <td>Asian</td>\n",
       "      <td>65-74</td>\n",
       "      <td>Other</td>\n",
       "      <td>7/16/2012</td>\n",
       "      <td>warfarin (bulk) 100 % powder</td>\n",
       "      <td>144731</td>\n",
       "      <td>2</td>\n",
       "      <td>3</td>\n",
       "      <td>why did my PTINR go from a normal of 2.5 to ov...</td>\n",
       "      <td>3</td>\n",
       "      <td>Female</td>\n",
       "      <td></td>\n",
       "      <td>0</td>\n",
       "    </tr>\n",
       "    <tr>\n",
       "      <th>3</th>\n",
       "      <td>Kenneth Dorsey</td>\n",
       "      <td>White</td>\n",
       "      <td>75 or over</td>\n",
       "      <td>Other</td>\n",
       "      <td>9/23/2010</td>\n",
       "      <td>warfarin (bulk) 100 % powder</td>\n",
       "      <td>144731</td>\n",
       "      <td>2</td>\n",
       "      <td>2</td>\n",
       "      <td>FALLING AND DON'T REALISE IT</td>\n",
       "      <td>1</td>\n",
       "      <td>Female</td>\n",
       "      <td></td>\n",
       "      <td>0</td>\n",
       "    </tr>\n",
       "    <tr>\n",
       "      <th>4</th>\n",
       "      <td>Mark Meyers</td>\n",
       "      <td>White</td>\n",
       "      <td>35-44</td>\n",
       "      <td>Other</td>\n",
       "      <td>01-06-2009</td>\n",
       "      <td>warfarin (bulk) 100 % powder</td>\n",
       "      <td>144731</td>\n",
       "      <td>1</td>\n",
       "      <td>1</td>\n",
       "      <td>My grandfather was prescribed this medication ...</td>\n",
       "      <td>1</td>\n",
       "      <td>Male</td>\n",
       "      <td></td>\n",
       "      <td>1</td>\n",
       "    </tr>\n",
       "  </tbody>\n",
       "</table>\n",
       "</div>"
      ],
      "text/plain": [
       "             Name      Race         Age      Condition        Date  \\\n",
       "0   Donald Thomas     White  75 or over    Stuffy Nose   9/21/2014   \n",
       "1    Jeffrey Mack  Hispanic       25-34  Cold Symptoms   1/13/2011   \n",
       "2      Briana Cox     Asian       65-74          Other   7/16/2012   \n",
       "3  Kenneth Dorsey     White  75 or over          Other   9/23/2010   \n",
       "4     Mark Meyers     White       35-44          Other  01-06-2009   \n",
       "\n",
       "                           Drug  DrugId  EaseofUse  Effectiveness  \\\n",
       "0                  25dph-7.5peh  146724          5              5   \n",
       "1                  25dph-7.5peh  146724          5              5   \n",
       "2  warfarin (bulk) 100 % powder  144731          2              3   \n",
       "3  warfarin (bulk) 100 % powder  144731          2              2   \n",
       "4  warfarin (bulk) 100 % powder  144731          1              1   \n",
       "\n",
       "                                             Reviews  Satisfaction     Sex  \\\n",
       "0  I'm a retired physician and of all the meds I ...             5    Male   \n",
       "1  cleared me right up even with my throat hurtin...             5  Female   \n",
       "2  why did my PTINR go from a normal of 2.5 to ov...             3  Female   \n",
       "3                       FALLING AND DON'T REALISE IT             1  Female   \n",
       "4  My grandfather was prescribed this medication ...             1    Male   \n",
       "\n",
       "                                               Sides  UsefulCount  \n",
       "0  Drowsiness,  dizziness ,  dry mouth /nose/thro...            0  \n",
       "1  Drowsiness,  dizziness ,  dry mouth /nose/thro...            1  \n",
       "2                                                               0  \n",
       "3                                                               0  \n",
       "4                                                               1  "
      ]
     },
     "execution_count": 19,
     "metadata": {},
     "output_type": "execute_result"
    }
   ],
   "source": [
    "data.head()"
   ]
  },
  {
   "cell_type": "markdown",
   "id": "c14ad606",
   "metadata": {},
   "source": [
    "# Description of the dataset\n",
    "Name : Name of the patient\n",
    "\n",
    "Race : Race of the patient\n",
    "\n",
    "Age : Age of the patient\n",
    "\n",
    "Condition : Condition/symptom from which the patient is suffering\n",
    "\n",
    "Date : Date of usage\n",
    "\n",
    "Drug : Name of the drug\n",
    "\n",
    "DrugId : Identity/code of drug\n",
    "\n",
    "EaseofUse : Patient's 10-Star rating on the ease of use of drug\n",
    "\n",
    "Effectiveness : Patient's 10-Star rating on the effectiveness of drug\n",
    "\n",
    "Reviews : Patient's review\n",
    "\n",
    "Satisfaction : Patient's 10-Star rating on satisfaction\n",
    "\n",
    "Sex : Gender of the patient\n",
    "\n",
    "Sides : Side effects of the drug\n",
    "\n",
    "UsefulCount : Number of users who found the review useful"
   ]
  },
  {
   "cell_type": "markdown",
   "id": "78922e9e",
   "metadata": {},
   "source": [
    "# Understanding the dataset"
   ]
  },
  {
   "cell_type": "markdown",
   "id": "e835d210",
   "metadata": {},
   "source": [
    "**To display first five rows of the dataset**"
   ]
  },
  {
   "cell_type": "code",
   "execution_count": 20,
   "id": "2178fb2a",
   "metadata": {},
   "outputs": [
    {
     "data": {
      "text/html": [
       "<div>\n",
       "<style scoped>\n",
       "    .dataframe tbody tr th:only-of-type {\n",
       "        vertical-align: middle;\n",
       "    }\n",
       "\n",
       "    .dataframe tbody tr th {\n",
       "        vertical-align: top;\n",
       "    }\n",
       "\n",
       "    .dataframe thead th {\n",
       "        text-align: right;\n",
       "    }\n",
       "</style>\n",
       "<table border=\"1\" class=\"dataframe\">\n",
       "  <thead>\n",
       "    <tr style=\"text-align: right;\">\n",
       "      <th></th>\n",
       "      <th>Name</th>\n",
       "      <th>Race</th>\n",
       "      <th>Age</th>\n",
       "      <th>Condition</th>\n",
       "      <th>Date</th>\n",
       "      <th>Drug</th>\n",
       "      <th>DrugId</th>\n",
       "      <th>EaseofUse</th>\n",
       "      <th>Effectiveness</th>\n",
       "      <th>Reviews</th>\n",
       "      <th>Satisfaction</th>\n",
       "      <th>Sex</th>\n",
       "      <th>Sides</th>\n",
       "      <th>UsefulCount</th>\n",
       "    </tr>\n",
       "  </thead>\n",
       "  <tbody>\n",
       "    <tr>\n",
       "      <th>0</th>\n",
       "      <td>Donald Thomas</td>\n",
       "      <td>White</td>\n",
       "      <td>75 or over</td>\n",
       "      <td>Stuffy Nose</td>\n",
       "      <td>9/21/2014</td>\n",
       "      <td>25dph-7.5peh</td>\n",
       "      <td>146724</td>\n",
       "      <td>5</td>\n",
       "      <td>5</td>\n",
       "      <td>I'm a retired physician and of all the meds I ...</td>\n",
       "      <td>5</td>\n",
       "      <td>Male</td>\n",
       "      <td>Drowsiness,  dizziness ,  dry mouth /nose/thro...</td>\n",
       "      <td>0</td>\n",
       "    </tr>\n",
       "    <tr>\n",
       "      <th>1</th>\n",
       "      <td>Jeffrey Mack</td>\n",
       "      <td>Hispanic</td>\n",
       "      <td>25-34</td>\n",
       "      <td>Cold Symptoms</td>\n",
       "      <td>1/13/2011</td>\n",
       "      <td>25dph-7.5peh</td>\n",
       "      <td>146724</td>\n",
       "      <td>5</td>\n",
       "      <td>5</td>\n",
       "      <td>cleared me right up even with my throat hurtin...</td>\n",
       "      <td>5</td>\n",
       "      <td>Female</td>\n",
       "      <td>Drowsiness,  dizziness ,  dry mouth /nose/thro...</td>\n",
       "      <td>1</td>\n",
       "    </tr>\n",
       "    <tr>\n",
       "      <th>2</th>\n",
       "      <td>Briana Cox</td>\n",
       "      <td>Asian</td>\n",
       "      <td>65-74</td>\n",
       "      <td>Other</td>\n",
       "      <td>7/16/2012</td>\n",
       "      <td>warfarin (bulk) 100 % powder</td>\n",
       "      <td>144731</td>\n",
       "      <td>2</td>\n",
       "      <td>3</td>\n",
       "      <td>why did my PTINR go from a normal of 2.5 to ov...</td>\n",
       "      <td>3</td>\n",
       "      <td>Female</td>\n",
       "      <td></td>\n",
       "      <td>0</td>\n",
       "    </tr>\n",
       "    <tr>\n",
       "      <th>3</th>\n",
       "      <td>Kenneth Dorsey</td>\n",
       "      <td>White</td>\n",
       "      <td>75 or over</td>\n",
       "      <td>Other</td>\n",
       "      <td>9/23/2010</td>\n",
       "      <td>warfarin (bulk) 100 % powder</td>\n",
       "      <td>144731</td>\n",
       "      <td>2</td>\n",
       "      <td>2</td>\n",
       "      <td>FALLING AND DON'T REALISE IT</td>\n",
       "      <td>1</td>\n",
       "      <td>Female</td>\n",
       "      <td></td>\n",
       "      <td>0</td>\n",
       "    </tr>\n",
       "    <tr>\n",
       "      <th>4</th>\n",
       "      <td>Mark Meyers</td>\n",
       "      <td>White</td>\n",
       "      <td>35-44</td>\n",
       "      <td>Other</td>\n",
       "      <td>01-06-2009</td>\n",
       "      <td>warfarin (bulk) 100 % powder</td>\n",
       "      <td>144731</td>\n",
       "      <td>1</td>\n",
       "      <td>1</td>\n",
       "      <td>My grandfather was prescribed this medication ...</td>\n",
       "      <td>1</td>\n",
       "      <td>Male</td>\n",
       "      <td></td>\n",
       "      <td>1</td>\n",
       "    </tr>\n",
       "  </tbody>\n",
       "</table>\n",
       "</div>"
      ],
      "text/plain": [
       "             Name      Race         Age      Condition        Date  \\\n",
       "0   Donald Thomas     White  75 or over    Stuffy Nose   9/21/2014   \n",
       "1    Jeffrey Mack  Hispanic       25-34  Cold Symptoms   1/13/2011   \n",
       "2      Briana Cox     Asian       65-74          Other   7/16/2012   \n",
       "3  Kenneth Dorsey     White  75 or over          Other   9/23/2010   \n",
       "4     Mark Meyers     White       35-44          Other  01-06-2009   \n",
       "\n",
       "                           Drug  DrugId  EaseofUse  Effectiveness  \\\n",
       "0                  25dph-7.5peh  146724          5              5   \n",
       "1                  25dph-7.5peh  146724          5              5   \n",
       "2  warfarin (bulk) 100 % powder  144731          2              3   \n",
       "3  warfarin (bulk) 100 % powder  144731          2              2   \n",
       "4  warfarin (bulk) 100 % powder  144731          1              1   \n",
       "\n",
       "                                             Reviews  Satisfaction     Sex  \\\n",
       "0  I'm a retired physician and of all the meds I ...             5    Male   \n",
       "1  cleared me right up even with my throat hurtin...             5  Female   \n",
       "2  why did my PTINR go from a normal of 2.5 to ov...             3  Female   \n",
       "3                       FALLING AND DON'T REALISE IT             1  Female   \n",
       "4  My grandfather was prescribed this medication ...             1    Male   \n",
       "\n",
       "                                               Sides  UsefulCount  \n",
       "0  Drowsiness,  dizziness ,  dry mouth /nose/thro...            0  \n",
       "1  Drowsiness,  dizziness ,  dry mouth /nose/thro...            1  \n",
       "2                                                               0  \n",
       "3                                                               0  \n",
       "4                                                               1  "
      ]
     },
     "execution_count": 20,
     "metadata": {},
     "output_type": "execute_result"
    }
   ],
   "source": [
    "data.head()"
   ]
  },
  {
   "cell_type": "markdown",
   "id": "74592001",
   "metadata": {},
   "source": [
    "**To display the last five rows of the dataset**"
   ]
  },
  {
   "cell_type": "code",
   "execution_count": 21,
   "id": "047794b7",
   "metadata": {},
   "outputs": [
    {
     "data": {
      "text/html": [
       "<div>\n",
       "<style scoped>\n",
       "    .dataframe tbody tr th:only-of-type {\n",
       "        vertical-align: middle;\n",
       "    }\n",
       "\n",
       "    .dataframe tbody tr th {\n",
       "        vertical-align: top;\n",
       "    }\n",
       "\n",
       "    .dataframe thead th {\n",
       "        text-align: right;\n",
       "    }\n",
       "</style>\n",
       "<table border=\"1\" class=\"dataframe\">\n",
       "  <thead>\n",
       "    <tr style=\"text-align: right;\">\n",
       "      <th></th>\n",
       "      <th>Name</th>\n",
       "      <th>Race</th>\n",
       "      <th>Age</th>\n",
       "      <th>Condition</th>\n",
       "      <th>Date</th>\n",
       "      <th>Drug</th>\n",
       "      <th>DrugId</th>\n",
       "      <th>EaseofUse</th>\n",
       "      <th>Effectiveness</th>\n",
       "      <th>Reviews</th>\n",
       "      <th>Satisfaction</th>\n",
       "      <th>Sex</th>\n",
       "      <th>Sides</th>\n",
       "      <th>UsefulCount</th>\n",
       "    </tr>\n",
       "  </thead>\n",
       "  <tbody>\n",
       "    <tr>\n",
       "      <th>362801</th>\n",
       "      <td>Thomas Ryan</td>\n",
       "      <td>Black</td>\n",
       "      <td>55-64</td>\n",
       "      <td>Stop Smoking</td>\n",
       "      <td>11/14/2008</td>\n",
       "      <td>chantix</td>\n",
       "      <td>144470</td>\n",
       "      <td>5</td>\n",
       "      <td>5</td>\n",
       "      <td>I took the whole 12 weeks.I could have stopped...</td>\n",
       "      <td>5</td>\n",
       "      <td>Female</td>\n",
       "      <td>Nausea ,  headache ,  vomiting , drowsiness, g...</td>\n",
       "      <td>2</td>\n",
       "    </tr>\n",
       "    <tr>\n",
       "      <th>362802</th>\n",
       "      <td>Whitney Garcia</td>\n",
       "      <td>White</td>\n",
       "      <td></td>\n",
       "      <td>Other</td>\n",
       "      <td>11/14/2008</td>\n",
       "      <td>chantix</td>\n",
       "      <td>144470</td>\n",
       "      <td>2</td>\n",
       "      <td>3</td>\n",
       "      <td>My dad strated taking Chantix about 1 month ag...</td>\n",
       "      <td>1</td>\n",
       "      <td></td>\n",
       "      <td>Nausea ,  headache ,  vomiting , drowsiness, g...</td>\n",
       "      <td>16</td>\n",
       "    </tr>\n",
       "    <tr>\n",
       "      <th>362803</th>\n",
       "      <td>Mikayla Anderson</td>\n",
       "      <td>White</td>\n",
       "      <td>25-34</td>\n",
       "      <td>Stop Smoking</td>\n",
       "      <td>11/13/2008</td>\n",
       "      <td>chantix</td>\n",
       "      <td>144470</td>\n",
       "      <td>2</td>\n",
       "      <td>4</td>\n",
       "      <td>As long as I was on chantix, I didn't smoke.  ...</td>\n",
       "      <td>2</td>\n",
       "      <td>Female</td>\n",
       "      <td>Nausea ,  headache ,  vomiting , drowsiness, g...</td>\n",
       "      <td>3</td>\n",
       "    </tr>\n",
       "    <tr>\n",
       "      <th>362804</th>\n",
       "      <td>Christina Moon</td>\n",
       "      <td>Hispanic</td>\n",
       "      <td>55-64</td>\n",
       "      <td>Stop Smoking</td>\n",
       "      <td>11/13/2008</td>\n",
       "      <td>chantix</td>\n",
       "      <td>144470</td>\n",
       "      <td>5</td>\n",
       "      <td>5</td>\n",
       "      <td>Started this medication Oct 5th 2008. Haven't ...</td>\n",
       "      <td>5</td>\n",
       "      <td>Male</td>\n",
       "      <td>Nausea ,  headache ,  vomiting , drowsiness, g...</td>\n",
       "      <td>1</td>\n",
       "    </tr>\n",
       "    <tr>\n",
       "      <th>362805</th>\n",
       "      <td>Mary Moore</td>\n",
       "      <td>Black</td>\n",
       "      <td>45-54</td>\n",
       "      <td>Stop Smoking</td>\n",
       "      <td>11-12-2008</td>\n",
       "      <td>chantix</td>\n",
       "      <td>144470</td>\n",
       "      <td>4</td>\n",
       "      <td>5</td>\n",
       "      <td>One year ago, I tried Chantix and had to stop ...</td>\n",
       "      <td>5</td>\n",
       "      <td>Female</td>\n",
       "      <td>Nausea ,  headache ,  vomiting , drowsiness, g...</td>\n",
       "      <td>3</td>\n",
       "    </tr>\n",
       "  </tbody>\n",
       "</table>\n",
       "</div>"
      ],
      "text/plain": [
       "                    Name      Race    Age     Condition        Date     Drug  \\\n",
       "362801       Thomas Ryan     Black  55-64  Stop Smoking  11/14/2008  chantix   \n",
       "362802    Whitney Garcia     White                Other  11/14/2008  chantix   \n",
       "362803  Mikayla Anderson     White  25-34  Stop Smoking  11/13/2008  chantix   \n",
       "362804    Christina Moon  Hispanic  55-64  Stop Smoking  11/13/2008  chantix   \n",
       "362805        Mary Moore     Black  45-54  Stop Smoking  11-12-2008  chantix   \n",
       "\n",
       "        DrugId  EaseofUse  Effectiveness  \\\n",
       "362801  144470          5              5   \n",
       "362802  144470          2              3   \n",
       "362803  144470          2              4   \n",
       "362804  144470          5              5   \n",
       "362805  144470          4              5   \n",
       "\n",
       "                                                  Reviews  Satisfaction  \\\n",
       "362801  I took the whole 12 weeks.I could have stopped...             5   \n",
       "362802  My dad strated taking Chantix about 1 month ag...             1   \n",
       "362803  As long as I was on chantix, I didn't smoke.  ...             2   \n",
       "362804  Started this medication Oct 5th 2008. Haven't ...             5   \n",
       "362805  One year ago, I tried Chantix and had to stop ...             5   \n",
       "\n",
       "           Sex                                              Sides  UsefulCount  \n",
       "362801  Female  Nausea ,  headache ,  vomiting , drowsiness, g...            2  \n",
       "362802          Nausea ,  headache ,  vomiting , drowsiness, g...           16  \n",
       "362803  Female  Nausea ,  headache ,  vomiting , drowsiness, g...            3  \n",
       "362804    Male  Nausea ,  headache ,  vomiting , drowsiness, g...            1  \n",
       "362805  Female  Nausea ,  headache ,  vomiting , drowsiness, g...            3  "
      ]
     },
     "execution_count": 21,
     "metadata": {},
     "output_type": "execute_result"
    }
   ],
   "source": [
    "data.tail()"
   ]
  },
  {
   "cell_type": "markdown",
   "id": "ec2587da",
   "metadata": {},
   "source": [
    "**To display more information**"
   ]
  },
  {
   "cell_type": "code",
   "execution_count": 22,
   "id": "cfc15479",
   "metadata": {},
   "outputs": [
    {
     "name": "stdout",
     "output_type": "stream",
     "text": [
      "<class 'pandas.core.frame.DataFrame'>\n",
      "RangeIndex: 362806 entries, 0 to 362805\n",
      "Data columns (total 14 columns):\n",
      " #   Column         Non-Null Count   Dtype \n",
      "---  ------         --------------   ----- \n",
      " 0   Name           362806 non-null  object\n",
      " 1   Race           362806 non-null  object\n",
      " 2   Age            362806 non-null  object\n",
      " 3   Condition      362806 non-null  object\n",
      " 4   Date           362806 non-null  object\n",
      " 5   Drug           362806 non-null  object\n",
      " 6   DrugId         362806 non-null  int64 \n",
      " 7   EaseofUse      362806 non-null  int64 \n",
      " 8   Effectiveness  362806 non-null  int64 \n",
      " 9   Reviews        362769 non-null  object\n",
      " 10  Satisfaction   362806 non-null  int64 \n",
      " 11  Sex            362806 non-null  object\n",
      " 12  Sides          362806 non-null  object\n",
      " 13  UsefulCount    362806 non-null  int64 \n",
      "dtypes: int64(5), object(9)\n",
      "memory usage: 38.8+ MB\n"
     ]
    }
   ],
   "source": [
    "data.info()"
   ]
  },
  {
   "cell_type": "markdown",
   "id": "106f1a1d",
   "metadata": {},
   "source": [
    "**Insight:**<br>\n",
    "    <br>\n",
    "The info() method will give summary of the dataset. We can know the basic information about the dataset including the type of columns, non-null values and memory usage. This dataset contains 9 categorical variables and 5 integer variables."
   ]
  },
  {
   "cell_type": "markdown",
   "id": "dafece14",
   "metadata": {},
   "source": [
    "**To display dimension of the dataset**"
   ]
  },
  {
   "cell_type": "code",
   "execution_count": 23,
   "id": "bafe52e0",
   "metadata": {},
   "outputs": [
    {
     "data": {
      "text/plain": [
       "(362806, 14)"
      ]
     },
     "execution_count": 23,
     "metadata": {},
     "output_type": "execute_result"
    }
   ],
   "source": [
    "data.shape"
   ]
  },
  {
   "cell_type": "markdown",
   "id": "b7b06d0d",
   "metadata": {},
   "source": [
    "**Insight:**<br>\n",
    "    <br>\n",
    "The dataset contains 362806 rows and 14 columns."
   ]
  },
  {
   "cell_type": "markdown",
   "id": "04f5145b",
   "metadata": {},
   "source": [
    "**Checking for any NULL values**"
   ]
  },
  {
   "cell_type": "code",
   "execution_count": 24,
   "id": "6da88fa2",
   "metadata": {},
   "outputs": [
    {
     "data": {
      "text/plain": [
       "Name             False\n",
       "Race             False\n",
       "Age              False\n",
       "Condition        False\n",
       "Date             False\n",
       "Drug             False\n",
       "DrugId           False\n",
       "EaseofUse        False\n",
       "Effectiveness    False\n",
       "Reviews           True\n",
       "Satisfaction     False\n",
       "Sex              False\n",
       "Sides            False\n",
       "UsefulCount      False\n",
       "dtype: bool"
      ]
     },
     "execution_count": 24,
     "metadata": {},
     "output_type": "execute_result"
    }
   ],
   "source": [
    "data.isnull().any()"
   ]
  },
  {
   "cell_type": "markdown",
   "id": "9c4cbcaf",
   "metadata": {},
   "source": [
    "**Insight :**<br>\n",
    "    <br>\n",
    "'Reviews' has missing values."
   ]
  },
  {
   "cell_type": "code",
   "execution_count": 25,
   "id": "cba3390c",
   "metadata": {},
   "outputs": [
    {
     "data": {
      "text/plain": [
       "Name              0\n",
       "Race              0\n",
       "Age               0\n",
       "Condition         0\n",
       "Date              0\n",
       "Drug              0\n",
       "DrugId            0\n",
       "EaseofUse         0\n",
       "Effectiveness     0\n",
       "Reviews          37\n",
       "Satisfaction      0\n",
       "Sex               0\n",
       "Sides             0\n",
       "UsefulCount       0\n",
       "dtype: int64"
      ]
     },
     "execution_count": 25,
     "metadata": {},
     "output_type": "execute_result"
    }
   ],
   "source": [
    "data.isna().sum()"
   ]
  },
  {
   "cell_type": "markdown",
   "id": "624aa5c7",
   "metadata": {},
   "source": [
    "**Insight:**<br>\n",
    "    <br>\n",
    "'Reviews' column has 37 missing values."
   ]
  },
  {
   "cell_type": "markdown",
   "id": "55eebb9e",
   "metadata": {},
   "source": [
    "**Datatypes of columns**"
   ]
  },
  {
   "cell_type": "code",
   "execution_count": 26,
   "id": "37947a43",
   "metadata": {},
   "outputs": [
    {
     "data": {
      "text/plain": [
       "Name             object\n",
       "Race             object\n",
       "Age              object\n",
       "Condition        object\n",
       "Date             object\n",
       "Drug             object\n",
       "DrugId            int64\n",
       "EaseofUse         int64\n",
       "Effectiveness     int64\n",
       "Reviews          object\n",
       "Satisfaction      int64\n",
       "Sex              object\n",
       "Sides            object\n",
       "UsefulCount       int64\n",
       "dtype: object"
      ]
     },
     "execution_count": 26,
     "metadata": {},
     "output_type": "execute_result"
    }
   ],
   "source": [
    "data.dtypes"
   ]
  },
  {
   "cell_type": "markdown",
   "id": "eb9f8aa1",
   "metadata": {},
   "source": [
    "**Insight:**<br>\n",
    "    <br>\n",
    "The dataset contains five integer datatype fields and nine object datatype fields."
   ]
  },
  {
   "cell_type": "markdown",
   "id": "2471e7c4",
   "metadata": {},
   "source": [
    "**Descriptive statistics**"
   ]
  },
  {
   "cell_type": "code",
   "execution_count": 27,
   "id": "3b153fd5",
   "metadata": {},
   "outputs": [
    {
     "data": {
      "text/html": [
       "<div>\n",
       "<style scoped>\n",
       "    .dataframe tbody tr th:only-of-type {\n",
       "        vertical-align: middle;\n",
       "    }\n",
       "\n",
       "    .dataframe tbody tr th {\n",
       "        vertical-align: top;\n",
       "    }\n",
       "\n",
       "    .dataframe thead th {\n",
       "        text-align: right;\n",
       "    }\n",
       "</style>\n",
       "<table border=\"1\" class=\"dataframe\">\n",
       "  <thead>\n",
       "    <tr style=\"text-align: right;\">\n",
       "      <th></th>\n",
       "      <th>DrugId</th>\n",
       "      <th>EaseofUse</th>\n",
       "      <th>Effectiveness</th>\n",
       "      <th>Satisfaction</th>\n",
       "      <th>UsefulCount</th>\n",
       "    </tr>\n",
       "  </thead>\n",
       "  <tbody>\n",
       "    <tr>\n",
       "      <th>count</th>\n",
       "      <td>362806.000000</td>\n",
       "      <td>362806.000000</td>\n",
       "      <td>362806.000000</td>\n",
       "      <td>362806.000000</td>\n",
       "      <td>362806.000000</td>\n",
       "    </tr>\n",
       "    <tr>\n",
       "      <th>mean</th>\n",
       "      <td>36879.370774</td>\n",
       "      <td>4.019829</td>\n",
       "      <td>3.532061</td>\n",
       "      <td>3.135408</td>\n",
       "      <td>6.744916</td>\n",
       "    </tr>\n",
       "    <tr>\n",
       "      <th>std</th>\n",
       "      <td>52624.412971</td>\n",
       "      <td>1.317711</td>\n",
       "      <td>1.455961</td>\n",
       "      <td>1.611106</td>\n",
       "      <td>9.324240</td>\n",
       "    </tr>\n",
       "    <tr>\n",
       "      <th>min</th>\n",
       "      <td>1.000000</td>\n",
       "      <td>1.000000</td>\n",
       "      <td>1.000000</td>\n",
       "      <td>1.000000</td>\n",
       "      <td>0.000000</td>\n",
       "    </tr>\n",
       "    <tr>\n",
       "      <th>25%</th>\n",
       "      <td>4896.000000</td>\n",
       "      <td>3.000000</td>\n",
       "      <td>3.000000</td>\n",
       "      <td>1.000000</td>\n",
       "      <td>1.000000</td>\n",
       "    </tr>\n",
       "    <tr>\n",
       "      <th>50%</th>\n",
       "      <td>9548.000000</td>\n",
       "      <td>5.000000</td>\n",
       "      <td>4.000000</td>\n",
       "      <td>3.000000</td>\n",
       "      <td>4.000000</td>\n",
       "    </tr>\n",
       "    <tr>\n",
       "      <th>75%</th>\n",
       "      <td>63522.000000</td>\n",
       "      <td>5.000000</td>\n",
       "      <td>5.000000</td>\n",
       "      <td>5.000000</td>\n",
       "      <td>9.000000</td>\n",
       "    </tr>\n",
       "    <tr>\n",
       "      <th>max</th>\n",
       "      <td>178546.000000</td>\n",
       "      <td>10.000000</td>\n",
       "      <td>10.000000</td>\n",
       "      <td>10.000000</td>\n",
       "      <td>255.000000</td>\n",
       "    </tr>\n",
       "  </tbody>\n",
       "</table>\n",
       "</div>"
      ],
      "text/plain": [
       "              DrugId      EaseofUse  Effectiveness   Satisfaction  \\\n",
       "count  362806.000000  362806.000000  362806.000000  362806.000000   \n",
       "mean    36879.370774       4.019829       3.532061       3.135408   \n",
       "std     52624.412971       1.317711       1.455961       1.611106   \n",
       "min         1.000000       1.000000       1.000000       1.000000   \n",
       "25%      4896.000000       3.000000       3.000000       1.000000   \n",
       "50%      9548.000000       5.000000       4.000000       3.000000   \n",
       "75%     63522.000000       5.000000       5.000000       5.000000   \n",
       "max    178546.000000      10.000000      10.000000      10.000000   \n",
       "\n",
       "         UsefulCount  \n",
       "count  362806.000000  \n",
       "mean        6.744916  \n",
       "std         9.324240  \n",
       "min         0.000000  \n",
       "25%         1.000000  \n",
       "50%         4.000000  \n",
       "75%         9.000000  \n",
       "max       255.000000  "
      ]
     },
     "execution_count": 27,
     "metadata": {},
     "output_type": "execute_result"
    }
   ],
   "source": [
    "data.describe()"
   ]
  },
  {
   "cell_type": "markdown",
   "id": "b7aa5e90",
   "metadata": {},
   "source": [
    "**Insight:**<br>\n",
    "    <br>\n",
    "Displays the summary statistics such as count, mean, standard deviation, minimum and maximum value, first, second and third quartile values."
   ]
  },
  {
   "cell_type": "code",
   "execution_count": 28,
   "id": "001f055b",
   "metadata": {},
   "outputs": [
    {
     "data": {
      "text/html": [
       "<div>\n",
       "<style scoped>\n",
       "    .dataframe tbody tr th:only-of-type {\n",
       "        vertical-align: middle;\n",
       "    }\n",
       "\n",
       "    .dataframe tbody tr th {\n",
       "        vertical-align: top;\n",
       "    }\n",
       "\n",
       "    .dataframe thead th {\n",
       "        text-align: right;\n",
       "    }\n",
       "</style>\n",
       "<table border=\"1\" class=\"dataframe\">\n",
       "  <thead>\n",
       "    <tr style=\"text-align: right;\">\n",
       "      <th></th>\n",
       "      <th>count</th>\n",
       "      <th>mean</th>\n",
       "      <th>std</th>\n",
       "      <th>min</th>\n",
       "      <th>25%</th>\n",
       "      <th>50%</th>\n",
       "      <th>75%</th>\n",
       "      <th>max</th>\n",
       "    </tr>\n",
       "  </thead>\n",
       "  <tbody>\n",
       "    <tr>\n",
       "      <th>DrugId</th>\n",
       "      <td>362806.0</td>\n",
       "      <td>36879.370774</td>\n",
       "      <td>52624.412971</td>\n",
       "      <td>1.0</td>\n",
       "      <td>4896.0</td>\n",
       "      <td>9548.0</td>\n",
       "      <td>63522.0</td>\n",
       "      <td>178546.0</td>\n",
       "    </tr>\n",
       "    <tr>\n",
       "      <th>EaseofUse</th>\n",
       "      <td>362806.0</td>\n",
       "      <td>4.019829</td>\n",
       "      <td>1.317711</td>\n",
       "      <td>1.0</td>\n",
       "      <td>3.0</td>\n",
       "      <td>5.0</td>\n",
       "      <td>5.0</td>\n",
       "      <td>10.0</td>\n",
       "    </tr>\n",
       "    <tr>\n",
       "      <th>Effectiveness</th>\n",
       "      <td>362806.0</td>\n",
       "      <td>3.532061</td>\n",
       "      <td>1.455961</td>\n",
       "      <td>1.0</td>\n",
       "      <td>3.0</td>\n",
       "      <td>4.0</td>\n",
       "      <td>5.0</td>\n",
       "      <td>10.0</td>\n",
       "    </tr>\n",
       "    <tr>\n",
       "      <th>Satisfaction</th>\n",
       "      <td>362806.0</td>\n",
       "      <td>3.135408</td>\n",
       "      <td>1.611106</td>\n",
       "      <td>1.0</td>\n",
       "      <td>1.0</td>\n",
       "      <td>3.0</td>\n",
       "      <td>5.0</td>\n",
       "      <td>10.0</td>\n",
       "    </tr>\n",
       "    <tr>\n",
       "      <th>UsefulCount</th>\n",
       "      <td>362806.0</td>\n",
       "      <td>6.744916</td>\n",
       "      <td>9.324240</td>\n",
       "      <td>0.0</td>\n",
       "      <td>1.0</td>\n",
       "      <td>4.0</td>\n",
       "      <td>9.0</td>\n",
       "      <td>255.0</td>\n",
       "    </tr>\n",
       "  </tbody>\n",
       "</table>\n",
       "</div>"
      ],
      "text/plain": [
       "                  count          mean           std  min     25%     50%  \\\n",
       "DrugId         362806.0  36879.370774  52624.412971  1.0  4896.0  9548.0   \n",
       "EaseofUse      362806.0      4.019829      1.317711  1.0     3.0     5.0   \n",
       "Effectiveness  362806.0      3.532061      1.455961  1.0     3.0     4.0   \n",
       "Satisfaction   362806.0      3.135408      1.611106  1.0     1.0     3.0   \n",
       "UsefulCount    362806.0      6.744916      9.324240  0.0     1.0     4.0   \n",
       "\n",
       "                   75%       max  \n",
       "DrugId         63522.0  178546.0  \n",
       "EaseofUse          5.0      10.0  \n",
       "Effectiveness      5.0      10.0  \n",
       "Satisfaction       5.0      10.0  \n",
       "UsefulCount        9.0     255.0  "
      ]
     },
     "execution_count": 28,
     "metadata": {},
     "output_type": "execute_result"
    }
   ],
   "source": [
    "data.describe().T"
   ]
  },
  {
   "cell_type": "markdown",
   "id": "edec597f",
   "metadata": {},
   "source": [
    "**Insight:**<br>\n",
    "    <br>\n",
    "EaseofUse, Effectiveness and Satisfaction ranges from 1 to 10. UsefulCount varies from 0 to 255."
   ]
  },
  {
   "cell_type": "markdown",
   "id": "d6be632e",
   "metadata": {},
   "source": [
    "**Summary statistics - Object datatype**"
   ]
  },
  {
   "cell_type": "code",
   "execution_count": 29,
   "id": "0de111a9",
   "metadata": {},
   "outputs": [
    {
     "data": {
      "text/html": [
       "<div>\n",
       "<style scoped>\n",
       "    .dataframe tbody tr th:only-of-type {\n",
       "        vertical-align: middle;\n",
       "    }\n",
       "\n",
       "    .dataframe tbody tr th {\n",
       "        vertical-align: top;\n",
       "    }\n",
       "\n",
       "    .dataframe thead th {\n",
       "        text-align: right;\n",
       "    }\n",
       "</style>\n",
       "<table border=\"1\" class=\"dataframe\">\n",
       "  <thead>\n",
       "    <tr style=\"text-align: right;\">\n",
       "      <th></th>\n",
       "      <th>count</th>\n",
       "      <th>unique</th>\n",
       "      <th>top</th>\n",
       "      <th>freq</th>\n",
       "    </tr>\n",
       "  </thead>\n",
       "  <tbody>\n",
       "    <tr>\n",
       "      <th>Name</th>\n",
       "      <td>362806</td>\n",
       "      <td>180742</td>\n",
       "      <td>Michael Smith</td>\n",
       "      <td>179</td>\n",
       "    </tr>\n",
       "    <tr>\n",
       "      <th>Race</th>\n",
       "      <td>362806</td>\n",
       "      <td>4</td>\n",
       "      <td>White</td>\n",
       "      <td>115823</td>\n",
       "    </tr>\n",
       "    <tr>\n",
       "      <th>Age</th>\n",
       "      <td>362806</td>\n",
       "      <td>12</td>\n",
       "      <td>45-54</td>\n",
       "      <td>80043</td>\n",
       "    </tr>\n",
       "    <tr>\n",
       "      <th>Condition</th>\n",
       "      <td>362806</td>\n",
       "      <td>1806</td>\n",
       "      <td>Other</td>\n",
       "      <td>49765</td>\n",
       "    </tr>\n",
       "    <tr>\n",
       "      <th>Date</th>\n",
       "      <td>362806</td>\n",
       "      <td>4524</td>\n",
       "      <td>10/29/2007</td>\n",
       "      <td>404</td>\n",
       "    </tr>\n",
       "    <tr>\n",
       "      <th>Drug</th>\n",
       "      <td>362806</td>\n",
       "      <td>7093</td>\n",
       "      <td>cymbalta</td>\n",
       "      <td>4648</td>\n",
       "    </tr>\n",
       "    <tr>\n",
       "      <th>Reviews</th>\n",
       "      <td>362769</td>\n",
       "      <td>250159</td>\n",
       "      <td></td>\n",
       "      <td>41824</td>\n",
       "    </tr>\n",
       "    <tr>\n",
       "      <th>Sex</th>\n",
       "      <td>362806</td>\n",
       "      <td>3</td>\n",
       "      <td>Female</td>\n",
       "      <td>238226</td>\n",
       "    </tr>\n",
       "    <tr>\n",
       "      <th>Sides</th>\n",
       "      <td>362806</td>\n",
       "      <td>1651</td>\n",
       "      <td></td>\n",
       "      <td>17460</td>\n",
       "    </tr>\n",
       "  </tbody>\n",
       "</table>\n",
       "</div>"
      ],
      "text/plain": [
       "            count  unique            top    freq\n",
       "Name       362806  180742  Michael Smith     179\n",
       "Race       362806       4          White  115823\n",
       "Age        362806      12          45-54   80043\n",
       "Condition  362806    1806          Other   49765\n",
       "Date       362806    4524     10/29/2007     404\n",
       "Drug       362806    7093       cymbalta    4648\n",
       "Reviews    362769  250159                  41824\n",
       "Sex        362806       3         Female  238226\n",
       "Sides      362806    1651                  17460"
      ]
     },
     "execution_count": 29,
     "metadata": {},
     "output_type": "execute_result"
    }
   ],
   "source": [
    "data.describe(include='object').T"
   ]
  },
  {
   "cell_type": "markdown",
   "id": "2b228cb9",
   "metadata": {},
   "source": [
    "**Insight:**<br>\n",
    "    <br>\n",
    "Age group between 45 to 54 is the highest.\n",
    "\n",
    "Female patients are more than male patients.\n",
    "\n",
    "The use of cymbalta is highest when compared with other drugs."
   ]
  },
  {
   "cell_type": "markdown",
   "id": "503efb4f",
   "metadata": {},
   "source": [
    "**Checking for duplicate values**"
   ]
  },
  {
   "cell_type": "code",
   "execution_count": 30,
   "id": "22c9c9dc",
   "metadata": {},
   "outputs": [
    {
     "data": {
      "text/plain": [
       "0"
      ]
     },
     "execution_count": 30,
     "metadata": {},
     "output_type": "execute_result"
    }
   ],
   "source": [
    "data.duplicated().sum()"
   ]
  },
  {
   "cell_type": "markdown",
   "id": "eaec9b91",
   "metadata": {},
   "source": [
    "**Insight:**<br>\n",
    "    \n",
    "There are no duplicate values present in the dataset."
   ]
  },
  {
   "cell_type": "markdown",
   "id": "04182a61",
   "metadata": {},
   "source": [
    "**Exploring the column names**"
   ]
  },
  {
   "cell_type": "code",
   "execution_count": 31,
   "id": "0c59e31b",
   "metadata": {},
   "outputs": [
    {
     "data": {
      "text/plain": [
       "Index(['Name', 'Race', 'Age', 'Condition', 'Date', 'Drug', 'DrugId',\n",
       "       'EaseofUse', 'Effectiveness', 'Reviews', 'Satisfaction', 'Sex', 'Sides',\n",
       "       'UsefulCount'],\n",
       "      dtype='object')"
      ]
     },
     "execution_count": 31,
     "metadata": {},
     "output_type": "execute_result"
    }
   ],
   "source": [
    "data.columns"
   ]
  },
  {
   "cell_type": "markdown",
   "id": "fe0740d9",
   "metadata": {},
   "source": [
    "**Insight:**<br>\n",
    "    \n",
    "Displays names of columns in the dataset."
   ]
  },
  {
   "cell_type": "markdown",
   "id": "2c19a10b",
   "metadata": {},
   "source": [
    "**Unique occurrences of each variable**"
   ]
  },
  {
   "cell_type": "code",
   "execution_count": 32,
   "id": "e95c5132",
   "metadata": {},
   "outputs": [
    {
     "name": "stdout",
     "output_type": "stream",
     "text": [
      "Name : 180742 \n",
      "\n",
      "Race : 4 \n",
      "\n",
      "Age : 12 \n",
      "\n",
      "Condition : 1806 \n",
      "\n",
      "Date : 4524 \n",
      "\n",
      "Drug : 7093 \n",
      "\n",
      "DrugId : 6572 \n",
      "\n",
      "EaseofUse : 7 \n",
      "\n",
      "Effectiveness : 7 \n",
      "\n",
      "Reviews : 250159 \n",
      "\n",
      "Satisfaction : 7 \n",
      "\n",
      "Sex : 3 \n",
      "\n",
      "Sides : 1651 \n",
      "\n",
      "UsefulCount : 148 \n",
      "\n"
     ]
    }
   ],
   "source": [
    "for i in data.columns:\n",
    "    print(i,':',data[i].nunique(),'\\n')"
   ]
  },
  {
   "cell_type": "markdown",
   "id": "7ea4b280",
   "metadata": {},
   "source": [
    "**Insight:**<br>\n",
    "    \n",
    "'Sex' has three categories.\n",
    "\n",
    "Four different races are present.\n",
    "\n",
    "'Drug' has more values than 'DrugId'.\n",
    "\n",
    "'Condition' has lesser values than 'Drug'/'DrugId'.\n",
    "\n",
    "'Reviews' has close to 70% unique values."
   ]
  },
  {
   "cell_type": "markdown",
   "id": "a32efa92",
   "metadata": {},
   "source": [
    "**Creating the list of categorical variables**"
   ]
  },
  {
   "cell_type": "code",
   "execution_count": 33,
   "id": "36329654",
   "metadata": {},
   "outputs": [
    {
     "data": {
      "text/plain": [
       "['Name', 'Race', 'Age', 'Condition', 'Date', 'Drug', 'Reviews', 'Sex', 'Sides']"
      ]
     },
     "execution_count": 33,
     "metadata": {},
     "output_type": "execute_result"
    }
   ],
   "source": [
    "cat_var = []\n",
    "\n",
    "for column in data:\n",
    "    if data[column].dtype == 'O':\n",
    "        cat_var.append(column)\n",
    "cat_var"
   ]
  },
  {
   "cell_type": "markdown",
   "id": "f38153c3",
   "metadata": {},
   "source": [
    "**Finding the unique values in each categorical variables**"
   ]
  },
  {
   "cell_type": "code",
   "execution_count": 34,
   "id": "da968df9",
   "metadata": {},
   "outputs": [
    {
     "name": "stdout",
     "output_type": "stream",
     "text": [
      "\n",
      " Name \n",
      " ['Donald Thomas' 'Jeffrey Mack' 'Briana Cox' ... 'Eddie Swanson'\n",
      " 'Mr. David Robinson' 'Mary Costa'] \n",
      " ________________________________________________________________________________\n",
      "\n",
      " Race \n",
      " ['White' 'Hispanic' 'Asian' 'Black'] \n",
      " ________________________________________________________________________________\n",
      "\n",
      " Age \n",
      " ['75 or over' '25-34' '65-74' '35-44' '55-64' '45-54' '19-24' ' ' '13-18'\n",
      " '07-Dec' '0-2' '03-Jun'] \n",
      " ________________________________________________________________________________\n",
      "\n",
      " Condition \n",
      " ['Stuffy Nose' 'Cold Symptoms' 'Other' ...\n",
      " 'Combative and Explosive Behavior' 'Lead Poisoning'\n",
      " 'Poisoning from Swallowed Unknown Substance'] \n",
      " ________________________________________________________________________________\n",
      "\n",
      " Date \n",
      " ['9/21/2014' '1/13/2011' '7/16/2012' ... '10/25/2019' '6/22/2019'\n",
      " '10/19/2019'] \n",
      " ________________________________________________________________________________\n",
      "\n",
      " Drug \n",
      " ['25dph-7.5peh' 'warfarin (bulk) 100 % powder' 'wymzya fe' ...\n",
      " 'chest congestion relief dm' 'chantix' 'chateal'] \n",
      " ________________________________________________________________________________\n",
      "\n",
      " Reviews \n",
      " [\"I'm a retired physician and of all the meds I have tried for my allergies (seasonal and not) - this one is the most effective for me.  When I first began using this drug some years ago - tiredness as a problem but is not currently.\"\n",
      " 'cleared me right up even with my throat hurting it went away after taking the medicine'\n",
      " 'why did my PTINR go from a normal of 2.5 to over \\n100?' ...\n",
      " \"As long as I was on chantix, I didn't smoke.  Terrible stomach upset after each dose, constipation, headaches constantly, crazy dreams and mood swings.  I have had to stop taking it and have found other ways to stop smoking.\"\n",
      " \"Started this medication Oct 5th 2008. Haven't smoked for 6 weeks and planning on the full 12 weeks program.  I have had some problems like getting sick after the meds but accually it helps because everytime I see a smoker or smell smoke I get sick, still want one but it offsets it.\"\n",
      " \"One year ago, I tried Chantix and had to stop taking it because I was so nauseous in the morning.  Three weeks ago I started it again and found that if I eat 10 minutes before taking the pill, I don't get nauseous at all.  I have been smoke free for two weeks and will never smoke again.  \"] \n",
      " ________________________________________________________________________________\n",
      "\n",
      " Sex \n",
      " ['Male' 'Female' ' '] \n",
      " ________________________________________________________________________________\n",
      "\n",
      " Sides \n",
      " ['Drowsiness,  dizziness ,  dry mouth /nose/throat,  headache ,  upset stomach ,  constipation , or  trouble sleeping  may occur.'\n",
      " ' '\n",
      " 'Nausea ,  vomiting ,  headache ,  bloating ,  breast  tenderness, swelling of the  ankles /feet (fluid retention), or  weight  change may occur.'\n",
      " ...\n",
      " 'Drowsiness,  dizziness ,  nausea ,  constipation ,  blurred vision , or  headache  may occur.'\n",
      " 'Drowsiness,  dizziness ,  dry mouth ,  blurred vision ,  constipation ,  bloating , trouble urinating, and  weight  gain may occur.'\n",
      " 'Diarrhea ,  nausea , or  heartburn  may occur.'] \n",
      " ________________________________________________________________________________\n"
     ]
    }
   ],
   "source": [
    "for col in cat_var:\n",
    "    print('\\n', col, '\\n', data[col].unique(), '\\n', '_' * 80)"
   ]
  },
  {
   "cell_type": "markdown",
   "id": "3663367a",
   "metadata": {},
   "source": [
    "**To display the count of each variable in different features**"
   ]
  },
  {
   "cell_type": "code",
   "execution_count": 35,
   "id": "45068160",
   "metadata": {},
   "outputs": [
    {
     "data": {
      "text/plain": [
       "White       115823\n",
       "Hispanic    102005\n",
       "Black        80059\n",
       "Asian        64919\n",
       "Name: Race, dtype: int64"
      ]
     },
     "execution_count": 35,
     "metadata": {},
     "output_type": "execute_result"
    }
   ],
   "source": [
    "data['Race'].value_counts()"
   ]
  },
  {
   "cell_type": "code",
   "execution_count": 36,
   "id": "4fcb7a65",
   "metadata": {},
   "outputs": [
    {
     "data": {
      "text/plain": [
       "45-54         80043\n",
       "55-64         75136\n",
       "35-44         55011\n",
       "25-34         49718\n",
       "65-74         41216\n",
       "19-24         24230\n",
       "75 or over    15226\n",
       "              12202\n",
       "13-18          7045\n",
       "07-Dec         1644\n",
       "03-Jun          838\n",
       "0-2             497\n",
       "Name: Age, dtype: int64"
      ]
     },
     "execution_count": 36,
     "metadata": {},
     "output_type": "execute_result"
    }
   ],
   "source": [
    "data['Age'].value_counts()"
   ]
  },
  {
   "cell_type": "code",
   "execution_count": 37,
   "id": "25e48226",
   "metadata": {},
   "outputs": [
    {
     "data": {
      "text/plain": [
       "cymbalta                               4648\n",
       "lisinopril                             4269\n",
       "lisinopril solution                    4269\n",
       "lexapro                                4134\n",
       "hydrocodone-acetaminophen              3944\n",
       "                                       ... \n",
       "sorbsan bandage                           1\n",
       "sorbsan topical wound dressing 3\" x       1\n",
       "q-pap extra strength                      1\n",
       "symax                                     1\n",
       "vanadium granules                         1\n",
       "Name: Drug, Length: 7093, dtype: int64"
      ]
     },
     "execution_count": 37,
     "metadata": {},
     "output_type": "execute_result"
    }
   ],
   "source": [
    "data['Drug'].value_counts()"
   ]
  },
  {
   "cell_type": "code",
   "execution_count": 38,
   "id": "18915bf4",
   "metadata": {},
   "outputs": [
    {
     "data": {
      "text/plain": [
       "5     192650\n",
       "4      74732\n",
       "3      41303\n",
       "1      35927\n",
       "2      18191\n",
       "6          2\n",
       "10         1\n",
       "Name: EaseofUse, dtype: int64"
      ]
     },
     "execution_count": 38,
     "metadata": {},
     "output_type": "execute_result"
    }
   ],
   "source": [
    "data['EaseofUse'].value_counts()"
   ]
  },
  {
   "cell_type": "code",
   "execution_count": 39,
   "id": "5afd9c63",
   "metadata": {},
   "outputs": [
    {
     "data": {
      "text/plain": [
       "5     130388\n",
       "4      81821\n",
       "3      60406\n",
       "1      59387\n",
       "2      30801\n",
       "6          2\n",
       "10         1\n",
       "Name: Effectiveness, dtype: int64"
      ]
     },
     "execution_count": 39,
     "metadata": {},
     "output_type": "execute_result"
    }
   ],
   "source": [
    "data['Effectiveness'].value_counts()"
   ]
  },
  {
   "cell_type": "code",
   "execution_count": 40,
   "id": "8c04868b",
   "metadata": {},
   "outputs": [
    {
     "data": {
      "text/plain": [
       "5     111550\n",
       "1     100901\n",
       "4      63158\n",
       "3      51852\n",
       "2      35342\n",
       "6          2\n",
       "10         1\n",
       "Name: Satisfaction, dtype: int64"
      ]
     },
     "execution_count": 40,
     "metadata": {},
     "output_type": "execute_result"
    }
   ],
   "source": [
    "data['Satisfaction'].value_counts()"
   ]
  },
  {
   "cell_type": "code",
   "execution_count": 41,
   "id": "cf8d7ba3",
   "metadata": {},
   "outputs": [
    {
     "data": {
      "text/plain": [
       "Female    238226\n",
       "Male       98043\n",
       "           26537\n",
       "Name: Sex, dtype: int64"
      ]
     },
     "execution_count": 41,
     "metadata": {},
     "output_type": "execute_result"
    }
   ],
   "source": [
    "data['Sex'].value_counts()"
   ]
  },
  {
   "cell_type": "code",
   "execution_count": 42,
   "id": "e148e11c",
   "metadata": {},
   "outputs": [
    {
     "data": {
      "text/plain": [
       "cymbalta                                               4648\n",
       "lisinopril                                             4269\n",
       "lisinopril solution                                    4269\n",
       "lexapro                                                4134\n",
       "hydrocodone-acetaminophen                              3944\n",
       "effexor xr                                             3486\n",
       "lyrica                                                 3069\n",
       "tramadol hcl er                                        2932\n",
       "tramadol hcl                                           2932\n",
       "zoloft                                                 2662\n",
       "prednisone tablet, delayed release (enteric coated)    2576\n",
       "prednisone concentrate                                 2576\n",
       "prednisone                                             2576\n",
       "seroquel                                               2446\n",
       "phentermine hcl                                        2367\n",
       "celexa                                                 2224\n",
       "topamax                                                2148\n",
       "topamax capsule, sprinkle                              2148\n",
       "trazodone hcl                                          2099\n",
       "neurontin capsule                                      2078\n",
       "Name: Drug, dtype: int64"
      ]
     },
     "execution_count": 42,
     "metadata": {},
     "output_type": "execute_result"
    }
   ],
   "source": [
    "data['Drug'].value_counts().head(20)"
   ]
  },
  {
   "cell_type": "markdown",
   "id": "1a589ace",
   "metadata": {},
   "source": [
    "**Selection of drug: A particular drug named Lisinopril with DrugId 6873 is selected in building a classification model to determine side effects**"
   ]
  },
  {
   "cell_type": "code",
   "execution_count": 43,
   "id": "0fa6fc62",
   "metadata": {},
   "outputs": [
    {
     "data": {
      "text/html": [
       "<div>\n",
       "<style scoped>\n",
       "    .dataframe tbody tr th:only-of-type {\n",
       "        vertical-align: middle;\n",
       "    }\n",
       "\n",
       "    .dataframe tbody tr th {\n",
       "        vertical-align: top;\n",
       "    }\n",
       "\n",
       "    .dataframe thead th {\n",
       "        text-align: right;\n",
       "    }\n",
       "</style>\n",
       "<table border=\"1\" class=\"dataframe\">\n",
       "  <thead>\n",
       "    <tr style=\"text-align: right;\">\n",
       "      <th></th>\n",
       "      <th>Name</th>\n",
       "      <th>Race</th>\n",
       "      <th>Age</th>\n",
       "      <th>Condition</th>\n",
       "      <th>Date</th>\n",
       "      <th>Drug</th>\n",
       "      <th>DrugId</th>\n",
       "      <th>EaseofUse</th>\n",
       "      <th>Effectiveness</th>\n",
       "      <th>Reviews</th>\n",
       "      <th>Satisfaction</th>\n",
       "      <th>Sex</th>\n",
       "      <th>Sides</th>\n",
       "      <th>UsefulCount</th>\n",
       "    </tr>\n",
       "  </thead>\n",
       "  <tbody>\n",
       "    <tr>\n",
       "      <th>14354</th>\n",
       "      <td>Alexis Perry</td>\n",
       "      <td>Hispanic</td>\n",
       "      <td></td>\n",
       "      <td>High Blood Pressure</td>\n",
       "      <td>2/29/2020</td>\n",
       "      <td>lisinopril</td>\n",
       "      <td>6873</td>\n",
       "      <td>5</td>\n",
       "      <td>5</td>\n",
       "      <td>No Script or health Insurance needed to place ...</td>\n",
       "      <td>5</td>\n",
       "      <td></td>\n",
       "      <td>Dizziness ,  lightheadedness , tiredness, or  ...</td>\n",
       "      <td>14</td>\n",
       "    </tr>\n",
       "    <tr>\n",
       "      <th>14356</th>\n",
       "      <td>Malik Bell</td>\n",
       "      <td>Hispanic</td>\n",
       "      <td>75 or over</td>\n",
       "      <td>High Blood Pressure</td>\n",
       "      <td>02-08-2020</td>\n",
       "      <td>lisinopril</td>\n",
       "      <td>6873</td>\n",
       "      <td>5</td>\n",
       "      <td>4</td>\n",
       "      <td>I have developed a very itch rash on my body f...</td>\n",
       "      <td>4</td>\n",
       "      <td>Female</td>\n",
       "      <td>Dizziness ,  lightheadedness , tiredness, or  ...</td>\n",
       "      <td>3</td>\n",
       "    </tr>\n",
       "    <tr>\n",
       "      <th>14358</th>\n",
       "      <td>Brenda Ortiz</td>\n",
       "      <td>Asian</td>\n",
       "      <td>55-64</td>\n",
       "      <td>High Blood Pressure</td>\n",
       "      <td>1/14/2020</td>\n",
       "      <td>lisinopril</td>\n",
       "      <td>6873</td>\n",
       "      <td>4</td>\n",
       "      <td>5</td>\n",
       "      <td>tried alternative medicine Beet root, hibiscus...</td>\n",
       "      <td>4</td>\n",
       "      <td>Male</td>\n",
       "      <td>Dizziness ,  lightheadedness , tiredness, or  ...</td>\n",
       "      <td>3</td>\n",
       "    </tr>\n",
       "    <tr>\n",
       "      <th>14364</th>\n",
       "      <td>Karen Gonzalez</td>\n",
       "      <td>Hispanic</td>\n",
       "      <td>65-74</td>\n",
       "      <td>High Blood Pressure</td>\n",
       "      <td>10/17/2019</td>\n",
       "      <td>lisinopril</td>\n",
       "      <td>6873</td>\n",
       "      <td>5</td>\n",
       "      <td>5</td>\n",
       "      <td>Have been taking 10 mg doses per day for over ...</td>\n",
       "      <td>5</td>\n",
       "      <td>Male</td>\n",
       "      <td>Dizziness ,  lightheadedness , tiredness, or  ...</td>\n",
       "      <td>6</td>\n",
       "    </tr>\n",
       "    <tr>\n",
       "      <th>14367</th>\n",
       "      <td>Taylor Smith</td>\n",
       "      <td>Asian</td>\n",
       "      <td>55-64</td>\n",
       "      <td>High Blood Pressure</td>\n",
       "      <td>10/13/2019</td>\n",
       "      <td>lisinopril</td>\n",
       "      <td>6873</td>\n",
       "      <td>2</td>\n",
       "      <td>4</td>\n",
       "      <td>I don't like that I'm taking this and not know...</td>\n",
       "      <td>2</td>\n",
       "      <td>Male</td>\n",
       "      <td>Dizziness ,  lightheadedness , tiredness, or  ...</td>\n",
       "      <td>12</td>\n",
       "    </tr>\n",
       "  </tbody>\n",
       "</table>\n",
       "</div>"
      ],
      "text/plain": [
       "                 Name      Race         Age            Condition        Date  \\\n",
       "14354    Alexis Perry  Hispanic              High Blood Pressure   2/29/2020   \n",
       "14356      Malik Bell  Hispanic  75 or over  High Blood Pressure  02-08-2020   \n",
       "14358    Brenda Ortiz     Asian       55-64  High Blood Pressure   1/14/2020   \n",
       "14364  Karen Gonzalez  Hispanic       65-74  High Blood Pressure  10/17/2019   \n",
       "14367    Taylor Smith     Asian       55-64  High Blood Pressure  10/13/2019   \n",
       "\n",
       "             Drug  DrugId  EaseofUse  Effectiveness  \\\n",
       "14354  lisinopril    6873          5              5   \n",
       "14356  lisinopril    6873          5              4   \n",
       "14358  lisinopril    6873          4              5   \n",
       "14364  lisinopril    6873          5              5   \n",
       "14367  lisinopril    6873          2              4   \n",
       "\n",
       "                                                 Reviews  Satisfaction  \\\n",
       "14354  No Script or health Insurance needed to place ...             5   \n",
       "14356  I have developed a very itch rash on my body f...             4   \n",
       "14358  tried alternative medicine Beet root, hibiscus...             4   \n",
       "14364  Have been taking 10 mg doses per day for over ...             5   \n",
       "14367  I don't like that I'm taking this and not know...             2   \n",
       "\n",
       "          Sex                                              Sides  UsefulCount  \n",
       "14354          Dizziness ,  lightheadedness , tiredness, or  ...           14  \n",
       "14356  Female  Dizziness ,  lightheadedness , tiredness, or  ...            3  \n",
       "14358    Male  Dizziness ,  lightheadedness , tiredness, or  ...            3  \n",
       "14364    Male  Dizziness ,  lightheadedness , tiredness, or  ...            6  \n",
       "14367    Male  Dizziness ,  lightheadedness , tiredness, or  ...           12  "
      ]
     },
     "execution_count": 43,
     "metadata": {},
     "output_type": "execute_result"
    }
   ],
   "source": [
    "drug_lisinopril= data.loc[(data['Drug'] =='lisinopril')]\n",
    "drug_lisinopril.head(5)"
   ]
  },
  {
   "cell_type": "code",
   "execution_count": 44,
   "id": "612245f9",
   "metadata": {},
   "outputs": [
    {
     "data": {
      "text/plain": [
       "(4269, 14)"
      ]
     },
     "execution_count": 44,
     "metadata": {},
     "output_type": "execute_result"
    }
   ],
   "source": [
    "drug_lisinopril.shape"
   ]
  },
  {
   "cell_type": "code",
   "execution_count": 45,
   "id": "cc8bf73f",
   "metadata": {},
   "outputs": [
    {
     "data": {
      "text/plain": [
       "High Blood Pressure                                         3834\n",
       "Other                                                        111\n",
       "Kidney Disease from Diabetes                                 103\n",
       "Heart Attack                                                  88\n",
       "Chronic Heart Failure                                         42\n",
       "Prevention of Recurrent Atrial Fibrillation                   23\n",
       "Failure of the Left Ventricle of the Heart                    19\n",
       "Migraine Prevention                                           18\n",
       "Kidney Problem caused by Body Tissue Disease-Scleroderma      15\n",
       "Nondiabetic Proteinuric Nephropathy                            9\n",
       "Retinal Changes of Eye in a Patient with Diabetes              4\n",
       "Diastolic Heart Failure                                        3\n",
       "Name: Condition, dtype: int64"
      ]
     },
     "execution_count": 45,
     "metadata": {},
     "output_type": "execute_result"
    }
   ],
   "source": [
    "drug_lisinopril['Condition'].value_counts()"
   ]
  },
  {
   "cell_type": "code",
   "execution_count": 46,
   "id": "dc03eaf8",
   "metadata": {},
   "outputs": [
    {
     "data": {
      "text/plain": [
       "55-64         1191\n",
       "45-54         1111\n",
       "65-74          766\n",
       "35-44          531\n",
       "75 or over     331\n",
       "25-34          171\n",
       "               135\n",
       "19-24           28\n",
       "13-18            3\n",
       "0-2              1\n",
       "07-Dec           1\n",
       "Name: Age, dtype: int64"
      ]
     },
     "execution_count": 46,
     "metadata": {},
     "output_type": "execute_result"
    }
   ],
   "source": [
    "drug_lisinopril['Age'].value_counts()"
   ]
  },
  {
   "cell_type": "code",
   "execution_count": 47,
   "id": "4b6ade93",
   "metadata": {},
   "outputs": [],
   "source": [
    "data_new = drug_lisinopril.copy()"
   ]
  },
  {
   "cell_type": "code",
   "execution_count": 48,
   "id": "462acf06",
   "metadata": {},
   "outputs": [],
   "source": [
    "data_copy = data.copy()"
   ]
  },
  {
   "cell_type": "markdown",
   "id": "12824909",
   "metadata": {},
   "source": [
    "# Data pre-processing"
   ]
  },
  {
   "cell_type": "markdown",
   "id": "d651e8b9",
   "metadata": {},
   "source": [
    "## 1. Handling whitespaces"
   ]
  },
  {
   "cell_type": "code",
   "execution_count": 49,
   "id": "6a43081b",
   "metadata": {},
   "outputs": [],
   "source": [
    "# Handling instances with whitespaces\n",
    "\n",
    "for i in data_new:\n",
    "    data_new[i]=np.where(data_new[i]==\" \",np.NAN,data_new[i])"
   ]
  },
  {
   "cell_type": "code",
   "execution_count": 50,
   "id": "351b04ed",
   "metadata": {},
   "outputs": [
    {
     "data": {
      "text/html": [
       "<div>\n",
       "<style scoped>\n",
       "    .dataframe tbody tr th:only-of-type {\n",
       "        vertical-align: middle;\n",
       "    }\n",
       "\n",
       "    .dataframe tbody tr th {\n",
       "        vertical-align: top;\n",
       "    }\n",
       "\n",
       "    .dataframe thead th {\n",
       "        text-align: right;\n",
       "    }\n",
       "</style>\n",
       "<table border=\"1\" class=\"dataframe\">\n",
       "  <thead>\n",
       "    <tr style=\"text-align: right;\">\n",
       "      <th></th>\n",
       "      <th>Name</th>\n",
       "      <th>Race</th>\n",
       "      <th>Age</th>\n",
       "      <th>Condition</th>\n",
       "      <th>Date</th>\n",
       "      <th>Drug</th>\n",
       "      <th>DrugId</th>\n",
       "      <th>EaseofUse</th>\n",
       "      <th>Effectiveness</th>\n",
       "      <th>Reviews</th>\n",
       "      <th>Satisfaction</th>\n",
       "      <th>Sex</th>\n",
       "      <th>Sides</th>\n",
       "      <th>UsefulCount</th>\n",
       "    </tr>\n",
       "  </thead>\n",
       "  <tbody>\n",
       "    <tr>\n",
       "      <th>14354</th>\n",
       "      <td>Alexis Perry</td>\n",
       "      <td>Hispanic</td>\n",
       "      <td>NaN</td>\n",
       "      <td>High Blood Pressure</td>\n",
       "      <td>2/29/2020</td>\n",
       "      <td>lisinopril</td>\n",
       "      <td>6873.0</td>\n",
       "      <td>5.0</td>\n",
       "      <td>5.0</td>\n",
       "      <td>No Script or health Insurance needed to place ...</td>\n",
       "      <td>5.0</td>\n",
       "      <td>NaN</td>\n",
       "      <td>Dizziness ,  lightheadedness , tiredness, or  ...</td>\n",
       "      <td>14.0</td>\n",
       "    </tr>\n",
       "    <tr>\n",
       "      <th>14356</th>\n",
       "      <td>Malik Bell</td>\n",
       "      <td>Hispanic</td>\n",
       "      <td>75 or over</td>\n",
       "      <td>High Blood Pressure</td>\n",
       "      <td>02-08-2020</td>\n",
       "      <td>lisinopril</td>\n",
       "      <td>6873.0</td>\n",
       "      <td>5.0</td>\n",
       "      <td>4.0</td>\n",
       "      <td>I have developed a very itch rash on my body f...</td>\n",
       "      <td>4.0</td>\n",
       "      <td>Female</td>\n",
       "      <td>Dizziness ,  lightheadedness , tiredness, or  ...</td>\n",
       "      <td>3.0</td>\n",
       "    </tr>\n",
       "    <tr>\n",
       "      <th>14358</th>\n",
       "      <td>Brenda Ortiz</td>\n",
       "      <td>Asian</td>\n",
       "      <td>55-64</td>\n",
       "      <td>High Blood Pressure</td>\n",
       "      <td>1/14/2020</td>\n",
       "      <td>lisinopril</td>\n",
       "      <td>6873.0</td>\n",
       "      <td>4.0</td>\n",
       "      <td>5.0</td>\n",
       "      <td>tried alternative medicine Beet root, hibiscus...</td>\n",
       "      <td>4.0</td>\n",
       "      <td>Male</td>\n",
       "      <td>Dizziness ,  lightheadedness , tiredness, or  ...</td>\n",
       "      <td>3.0</td>\n",
       "    </tr>\n",
       "    <tr>\n",
       "      <th>14364</th>\n",
       "      <td>Karen Gonzalez</td>\n",
       "      <td>Hispanic</td>\n",
       "      <td>65-74</td>\n",
       "      <td>High Blood Pressure</td>\n",
       "      <td>10/17/2019</td>\n",
       "      <td>lisinopril</td>\n",
       "      <td>6873.0</td>\n",
       "      <td>5.0</td>\n",
       "      <td>5.0</td>\n",
       "      <td>Have been taking 10 mg doses per day for over ...</td>\n",
       "      <td>5.0</td>\n",
       "      <td>Male</td>\n",
       "      <td>Dizziness ,  lightheadedness , tiredness, or  ...</td>\n",
       "      <td>6.0</td>\n",
       "    </tr>\n",
       "    <tr>\n",
       "      <th>14367</th>\n",
       "      <td>Taylor Smith</td>\n",
       "      <td>Asian</td>\n",
       "      <td>55-64</td>\n",
       "      <td>High Blood Pressure</td>\n",
       "      <td>10/13/2019</td>\n",
       "      <td>lisinopril</td>\n",
       "      <td>6873.0</td>\n",
       "      <td>2.0</td>\n",
       "      <td>4.0</td>\n",
       "      <td>I don't like that I'm taking this and not know...</td>\n",
       "      <td>2.0</td>\n",
       "      <td>Male</td>\n",
       "      <td>Dizziness ,  lightheadedness , tiredness, or  ...</td>\n",
       "      <td>12.0</td>\n",
       "    </tr>\n",
       "  </tbody>\n",
       "</table>\n",
       "</div>"
      ],
      "text/plain": [
       "                 Name      Race         Age            Condition        Date  \\\n",
       "14354    Alexis Perry  Hispanic         NaN  High Blood Pressure   2/29/2020   \n",
       "14356      Malik Bell  Hispanic  75 or over  High Blood Pressure  02-08-2020   \n",
       "14358    Brenda Ortiz     Asian       55-64  High Blood Pressure   1/14/2020   \n",
       "14364  Karen Gonzalez  Hispanic       65-74  High Blood Pressure  10/17/2019   \n",
       "14367    Taylor Smith     Asian       55-64  High Blood Pressure  10/13/2019   \n",
       "\n",
       "             Drug  DrugId  EaseofUse  Effectiveness  \\\n",
       "14354  lisinopril  6873.0        5.0            5.0   \n",
       "14356  lisinopril  6873.0        5.0            4.0   \n",
       "14358  lisinopril  6873.0        4.0            5.0   \n",
       "14364  lisinopril  6873.0        5.0            5.0   \n",
       "14367  lisinopril  6873.0        2.0            4.0   \n",
       "\n",
       "                                                 Reviews  Satisfaction  \\\n",
       "14354  No Script or health Insurance needed to place ...           5.0   \n",
       "14356  I have developed a very itch rash on my body f...           4.0   \n",
       "14358  tried alternative medicine Beet root, hibiscus...           4.0   \n",
       "14364  Have been taking 10 mg doses per day for over ...           5.0   \n",
       "14367  I don't like that I'm taking this and not know...           2.0   \n",
       "\n",
       "          Sex                                              Sides  UsefulCount  \n",
       "14354     NaN  Dizziness ,  lightheadedness , tiredness, or  ...         14.0  \n",
       "14356  Female  Dizziness ,  lightheadedness , tiredness, or  ...          3.0  \n",
       "14358    Male  Dizziness ,  lightheadedness , tiredness, or  ...          3.0  \n",
       "14364    Male  Dizziness ,  lightheadedness , tiredness, or  ...          6.0  \n",
       "14367    Male  Dizziness ,  lightheadedness , tiredness, or  ...         12.0  "
      ]
     },
     "execution_count": 50,
     "metadata": {},
     "output_type": "execute_result"
    }
   ],
   "source": [
    "data_new.head()"
   ]
  },
  {
   "cell_type": "markdown",
   "id": "6d037481",
   "metadata": {},
   "source": [
    "## 2. Missing values handling"
   ]
  },
  {
   "cell_type": "code",
   "execution_count": 51,
   "id": "cd5c1a25",
   "metadata": {},
   "outputs": [
    {
     "data": {
      "text/plain": [
       "Name               0\n",
       "Race               0\n",
       "Age              135\n",
       "Condition          0\n",
       "Date               0\n",
       "Drug               0\n",
       "DrugId             0\n",
       "EaseofUse          0\n",
       "Effectiveness      0\n",
       "Reviews          783\n",
       "Satisfaction       0\n",
       "Sex              247\n",
       "Sides              0\n",
       "UsefulCount        0\n",
       "dtype: int64"
      ]
     },
     "execution_count": 51,
     "metadata": {},
     "output_type": "execute_result"
    }
   ],
   "source": [
    "#checking missing values\n",
    "\n",
    "data_new.isnull().sum()"
   ]
  },
  {
   "cell_type": "markdown",
   "id": "7cfdcadd",
   "metadata": {},
   "source": [
    "**Bar plot showing the null value count of each feature**"
   ]
  },
  {
   "cell_type": "code",
   "execution_count": 52,
   "id": "985d77e9",
   "metadata": {},
   "outputs": [
    {
     "data": {
      "text/plain": [
       "Text(0.5, 1.0, 'Total Missing Values')"
      ]
     },
     "execution_count": 52,
     "metadata": {},
     "output_type": "execute_result"
    },
    {
     "data": {
      "image/png": "[encoded data removed]",
      "text/plain": [
       "<Figure size 1200x600 with 1 Axes>"
      ]
     },
     "metadata": {},
     "output_type": "display_data"
    }
   ],
   "source": [
    "missing = (data_new.isnull().sum()).sort_values(ascending=False)\n",
    "missing.plot(kind=\"bar\", figsize = (12,6), fontsize = 10, color='violet')\n",
    "plt.xlabel(\"Columns\", fontsize = 20)\n",
    "plt.ylabel(\"\", fontsize = 20)\n",
    "plt.title(\"Total Missing Values\", fontsize = 20)"
   ]
  },
  {
   "cell_type": "code",
   "execution_count": 53,
   "id": "af01a051",
   "metadata": {},
   "outputs": [],
   "source": [
    "# Removing rows with null data\n",
    "\n",
    "data_new=data_new.dropna(axis=0)"
   ]
  },
  {
   "cell_type": "code",
   "execution_count": 54,
   "id": "ca50f305",
   "metadata": {},
   "outputs": [
    {
     "data": {
      "text/plain": [
       "Name             0\n",
       "Race             0\n",
       "Age              0\n",
       "Condition        0\n",
       "Date             0\n",
       "Drug             0\n",
       "DrugId           0\n",
       "EaseofUse        0\n",
       "Effectiveness    0\n",
       "Reviews          0\n",
       "Satisfaction     0\n",
       "Sex              0\n",
       "Sides            0\n",
       "UsefulCount      0\n",
       "dtype: int64"
      ]
     },
     "execution_count": 54,
     "metadata": {},
     "output_type": "execute_result"
    }
   ],
   "source": [
    "data_new.isnull().sum()"
   ]
  },
  {
   "cell_type": "code",
   "execution_count": 55,
   "id": "5cebcbc5",
   "metadata": {},
   "outputs": [
    {
     "data": {
      "text/plain": [
       "(3263, 14)"
      ]
     },
     "execution_count": 55,
     "metadata": {},
     "output_type": "execute_result"
    }
   ],
   "source": [
    "data_new.shape"
   ]
  },
  {
   "cell_type": "markdown",
   "id": "681cd50d",
   "metadata": {},
   "source": [
    "## 3.Text processing"
   ]
  },
  {
   "cell_type": "code",
   "execution_count": 57,
   "id": "dc925c13",
   "metadata": {},
   "outputs": [],
   "source": [
    "# Convert non-string values in 'Sides' column to strings\n",
    "data_new['Sides'] = data_new['Sides'].astype(str)\n",
    "\n",
    "# Convert non-string values in 'Reviews' column to strings\n",
    "data_new['Reviews'] = data_new['Reviews'].astype(str)\n",
    "\n",
    "# Convert non-string values in 'Condition' column to strings\n",
    "data_new['Condition'] = data_new['Condition'].astype(str)\n"
   ]
  },
  {
   "cell_type": "code",
   "execution_count": 58,
   "id": "20e531b8",
   "metadata": {},
   "outputs": [],
   "source": [
    "import re\n",
    "def cleaning_text(i):\n",
    "    i = re.sub(\"[^A-Za-z\" \"]+\",\" \",i).lower()\n",
    "    i = re.sub(\"[0-9\" \"]+\",\" \",i)\n",
    "    i= re.sub(\"[\\W+\"\"]\", \" \",i)        \n",
    "    w = []\n",
    "    for word in i.split(\" \"):\n",
    "        if len(word)>3:\n",
    "            w.append(word)\n",
    "    return (\" \".join(w))"
   ]
  },
  {
   "cell_type": "markdown",
   "id": "53749445",
   "metadata": {},
   "source": [
    "### 3.1 Sides"
   ]
  },
  {
   "cell_type": "code",
   "execution_count": 59,
   "id": "bc3d6e40",
   "metadata": {},
   "outputs": [
    {
     "data": {
      "text/plain": [
       "14356    dizziness lightheadedness tiredness headache o...\n",
       "14358    dizziness lightheadedness tiredness headache o...\n",
       "14364    dizziness lightheadedness tiredness headache o...\n",
       "14367    dizziness lightheadedness tiredness headache o...\n",
       "14369    dizziness lightheadedness tiredness headache o...\n",
       "                               ...                        \n",
       "18981    dizziness lightheadedness tiredness headache o...\n",
       "18982    dizziness lightheadedness tiredness headache o...\n",
       "18984    dizziness lightheadedness tiredness headache o...\n",
       "18985    dizziness lightheadedness tiredness headache o...\n",
       "18990    dizziness lightheadedness tiredness headache o...\n",
       "Name: Sides, Length: 3263, dtype: object"
      ]
     },
     "execution_count": 59,
     "metadata": {},
     "output_type": "execute_result"
    }
   ],
   "source": [
    "data_new.Sides= data_new.Sides.apply(cleaning_text)\n",
    "data_new.Sides"
   ]
  },
  {
   "cell_type": "code",
   "execution_count": 61,
   "id": "9eb8c399",
   "metadata": {},
   "outputs": [
    {
     "name": "stderr",
     "output_type": "stream",
     "text": [
      "[nltk_data] Downloading package stopwords to C:\\Users\\Z I M B\n",
      "[nltk_data]     A\\AppData\\Roaming\\nltk_data...\n",
      "[nltk_data]   Package stopwords is already up-to-date!\n"
     ]
    }
   ],
   "source": [
    "import nltk\n",
    "from nltk.corpus import stopwords\n",
    "\n",
    "nltk.download('stopwords')\n",
    "\n",
    "stop_words = set(stopwords.words('english'))  # Convert the list of stopwords to a set for faster lookup\n",
    "\n",
    "data_new['Sides'] = data_new['Sides'].apply(lambda x: ' '.join([word for word in x.split() if word not in stop_words]))\n"
   ]
  },
  {
   "cell_type": "code",
   "execution_count": 62,
   "id": "09dc3c14",
   "metadata": {},
   "outputs": [
    {
     "data": {
      "text/plain": [
       "14356    dizziness lightheadedness tiredness headache o...\n",
       "14358    dizziness lightheadedness tiredness headache o...\n",
       "14364    dizziness lightheadedness tiredness headache o...\n",
       "14367    dizziness lightheadedness tiredness headache o...\n",
       "14369    dizziness lightheadedness tiredness headache o...\n",
       "                               ...                        \n",
       "18981    dizziness lightheadedness tiredness headache o...\n",
       "18982    dizziness lightheadedness tiredness headache o...\n",
       "18984    dizziness lightheadedness tiredness headache o...\n",
       "18985    dizziness lightheadedness tiredness headache o...\n",
       "18990    dizziness lightheadedness tiredness headache o...\n",
       "Name: Sides, Length: 3263, dtype: object"
      ]
     },
     "execution_count": 62,
     "metadata": {},
     "output_type": "execute_result"
    }
   ],
   "source": [
    "data_new['Sides']"
   ]
  },
  {
   "cell_type": "markdown",
   "id": "03c6163b",
   "metadata": {},
   "source": [
    "### 3.2 Reviews"
   ]
  },
  {
   "cell_type": "code",
   "execution_count": 63,
   "id": "7ac8491d",
   "metadata": {},
   "outputs": [
    {
     "data": {
      "text/plain": [
       "14356    have developed very itch rash body almost year...\n",
       "14358    tried alternative medicine beet root hibiscus ...\n",
       "14364    have been taking doses over years body stays r...\n",
       "14367    like that taking this knowing suddenly higher ...\n",
       "14369    this medicine about months have been coughing ...\n",
       "                               ...                        \n",
       "18981    prescribed this medication prevent kidney dama...\n",
       "18982    year male with type diabetes given control pro...\n",
       "18984    losing wweight diuretic added think have also ...\n",
       "18985    took pill about hours later thought that havei...\n",
       "18990    have been taking this days daily gives cough h...\n",
       "Name: Reviews, Length: 3263, dtype: object"
      ]
     },
     "execution_count": 63,
     "metadata": {},
     "output_type": "execute_result"
    }
   ],
   "source": [
    "data_new.review= data_new.Reviews.apply(cleaning_text)\n",
    "data_new.review"
   ]
  },
  {
   "cell_type": "code",
   "execution_count": 64,
   "id": "7fa6c2b3",
   "metadata": {},
   "outputs": [],
   "source": [
    "#Removing stopwords\n",
    "\n",
    "data_new['Reviews'] = data_new['Reviews'].apply(lambda x: ' '.join([word for word in x.split() if word not in (stop_words)]))"
   ]
  },
  {
   "cell_type": "code",
   "execution_count": 65,
   "id": "3eb30fc6",
   "metadata": {},
   "outputs": [
    {
     "data": {
      "text/plain": [
       "14356    I developed itch rash body almost 5 years, I a...\n",
       "14358    tried alternative medicine Beet root, hibiscus...\n",
       "14364    Have taking 10 mg doses per day 9 years body s...\n",
       "14367    I like I'm taking knowing BP suddenly 20-25 pt...\n",
       "14369    Was medicine 2 months coughing head especially...\n",
       "                               ...                        \n",
       "18981    I prescribed medication prevent kidney damage ...\n",
       "18982    I 51 year old male type II diabetes. Was given...\n",
       "18984    Am losing wweight due diuretic added I think. ...\n",
       "18985    I took one 10mg pill 4 hours later thought I h...\n",
       "18990    I taking 60 days 2.5mg daily. It gives dry cou...\n",
       "Name: Reviews, Length: 3263, dtype: object"
      ]
     },
     "execution_count": 65,
     "metadata": {},
     "output_type": "execute_result"
    }
   ],
   "source": [
    "data_new['Reviews']"
   ]
  },
  {
   "cell_type": "markdown",
   "id": "a2522546",
   "metadata": {},
   "source": [
    "### 3.3 Condition"
   ]
  },
  {
   "cell_type": "code",
   "execution_count": 66,
   "id": "6ee398bf",
   "metadata": {},
   "outputs": [
    {
     "data": {
      "text/plain": [
       "14356             high blood pressure\n",
       "14358             high blood pressure\n",
       "14364             high blood pressure\n",
       "14367             high blood pressure\n",
       "14369             high blood pressure\n",
       "                     ...             \n",
       "18981    kidney disease from diabetes\n",
       "18982             high blood pressure\n",
       "18984             high blood pressure\n",
       "18985             high blood pressure\n",
       "18990                           other\n",
       "Name: Condition, Length: 3263, dtype: object"
      ]
     },
     "execution_count": 66,
     "metadata": {},
     "output_type": "execute_result"
    }
   ],
   "source": [
    "data_new.Condition=data_new.Condition.apply(cleaning_text)\n",
    "data_new.Condition"
   ]
  },
  {
   "cell_type": "markdown",
   "id": "90109ba3",
   "metadata": {},
   "source": [
    "## 4.Handling Age group"
   ]
  },
  {
   "cell_type": "code",
   "execution_count": 67,
   "id": "e8fbc95d",
   "metadata": {},
   "outputs": [
    {
     "data": {
      "text/plain": [
       "55-64         956\n",
       "45-54         880\n",
       "65-74         574\n",
       "35-44         429\n",
       "75 or over    245\n",
       "25-34         153\n",
       "19-24          22\n",
       "13-18           3\n",
       "0-2             1\n",
       "Name: Age, dtype: int64"
      ]
     },
     "execution_count": 67,
     "metadata": {},
     "output_type": "execute_result"
    }
   ],
   "source": [
    "data_new['Age'].value_counts()"
   ]
  },
  {
   "cell_type": "code",
   "execution_count": 68,
   "id": "04a1d2db",
   "metadata": {},
   "outputs": [
    {
     "data": {
      "text/plain": [
       "array(['75 or over', '55-64', '65-74', '25-34', '35-44', '45-54', '19-24',\n",
       "       '13-18', '0-2'], dtype=object)"
      ]
     },
     "execution_count": 68,
     "metadata": {},
     "output_type": "execute_result"
    }
   ],
   "source": [
    "data_new['Age'].unique()"
   ]
  },
  {
   "cell_type": "code",
   "execution_count": 69,
   "id": "6d75c479",
   "metadata": {},
   "outputs": [],
   "source": [
    "data_new['Age']=data_new['Age'].str.replace('75 or over','75-100')"
   ]
  },
  {
   "cell_type": "code",
   "execution_count": 70,
   "id": "ce9e9807",
   "metadata": {},
   "outputs": [
    {
     "data": {
      "text/plain": [
       "55-64     956\n",
       "45-54     880\n",
       "65-74     574\n",
       "35-44     429\n",
       "75-100    245\n",
       "25-34     153\n",
       "19-24      22\n",
       "13-18       3\n",
       "0-2         1\n",
       "Name: Age, dtype: int64"
      ]
     },
     "execution_count": 70,
     "metadata": {},
     "output_type": "execute_result"
    }
   ],
   "source": [
    "data_new['Age'].value_counts()"
   ]
  },
  {
   "cell_type": "markdown",
   "id": "d5dbfa88",
   "metadata": {},
   "source": [
    "## 5.Outliers detection and handling"
   ]
  },
  {
   "cell_type": "code",
   "execution_count": 71,
   "id": "589f5b12",
   "metadata": {},
   "outputs": [
    {
     "data": {
      "image/png": "[encoded data removed]",
      "text/plain": [
       "<Figure size 1000x600 with 4 Axes>"
      ]
     },
     "metadata": {},
     "output_type": "display_data"
    }
   ],
   "source": [
    "plt.figure(figsize=(10,6))\n",
    "\n",
    "plt.subplot(2,2,1)\n",
    "plt.boxplot(data_new[\"EaseofUse\"])\n",
    "plt.title(\" Ease Of Use\")\n",
    "\n",
    "plt.subplot(2,2,2)\n",
    "plt.boxplot(data_new[\"Effectiveness\"])\n",
    "plt.title(\" Effectiveness\")\n",
    "\n",
    "plt.subplot(2,2,3)\n",
    "plt.boxplot(data_new[\"Satisfaction\"])\n",
    "plt.title(\" Satisfaction\")\n",
    "\n",
    "plt.subplot(2,2,4)\n",
    "plt.boxplot(data_new[\"UsefulCount\"])\n",
    "plt.title(\" Useful Count\")\n",
    "plt.show()"
   ]
  },
  {
   "cell_type": "markdown",
   "id": "ff4235b8",
   "metadata": {},
   "source": [
    "**Insight:**<br>\n",
    "    \n",
    "Outliers are present in UsefulCount columns."
   ]
  },
  {
   "cell_type": "markdown",
   "id": "225658a3",
   "metadata": {},
   "source": [
    "**Removing outliers**"
   ]
  },
  {
   "cell_type": "code",
   "execution_count": 72,
   "id": "4095b9cb",
   "metadata": {},
   "outputs": [],
   "source": [
    "# define a function called 'outliers' which returns a list of outliers\n",
    "def outliers(df,ft):\n",
    "    Q1=df[ft].quantile(0.25)\n",
    "    Q3=df[ft].quantile(0.75)\n",
    "    IQR=Q3-Q1\n",
    "    lower=Q1-1.5*IQR\n",
    "    upper=Q3+1.5*IQR\n",
    "#create list to store indexes of outliers\n",
    "    ls= df.index[(df[ft]<lower) | (df[ft]>upper)]\n",
    "    return ls"
   ]
  },
  {
   "cell_type": "code",
   "execution_count": 73,
   "id": "3c8c671b",
   "metadata": {},
   "outputs": [
    {
     "data": {
      "text/plain": [
       "[14371,\n",
       " 14373,\n",
       " 14393,\n",
       " 14435,\n",
       " 14477,\n",
       " 14481,\n",
       " 14483,\n",
       " 14543,\n",
       " 14577,\n",
       " 15231,\n",
       " 15281,\n",
       " 15307,\n",
       " 15308,\n",
       " 15311,\n",
       " 15316,\n",
       " 15324,\n",
       " 15360,\n",
       " 15432,\n",
       " 15435,\n",
       " 15436,\n",
       " 15438,\n",
       " 15449,\n",
       " 15463,\n",
       " 15467,\n",
       " 15589,\n",
       " 15629,\n",
       " 15675,\n",
       " 15843,\n",
       " 15929,\n",
       " 15958,\n",
       " 15962,\n",
       " 15963,\n",
       " 15985,\n",
       " 15992,\n",
       " 15994,\n",
       " 16011,\n",
       " 16017,\n",
       " 16020,\n",
       " 16024,\n",
       " 16165,\n",
       " 16344,\n",
       " 16526,\n",
       " 16538,\n",
       " 16541,\n",
       " 16542,\n",
       " 16544,\n",
       " 16545,\n",
       " 16682,\n",
       " 16693,\n",
       " 16697,\n",
       " 16779,\n",
       " 16852,\n",
       " 17396,\n",
       " 17479,\n",
       " 17499,\n",
       " 17972,\n",
       " 18067,\n",
       " 18085,\n",
       " 18176,\n",
       " 18322,\n",
       " 18364,\n",
       " 18504,\n",
       " 18508,\n",
       " 18684,\n",
       " 18851,\n",
       " 18891,\n",
       " 18905,\n",
       " 18939,\n",
       " 18958,\n",
       " 18990]"
      ]
     },
     "execution_count": 73,
     "metadata": {},
     "output_type": "execute_result"
    }
   ],
   "source": [
    "#create an empty list to store indexes from multiple columns\n",
    "index_list=[]\n",
    "for feature in ['UsefulCount']:\n",
    "    index_list.extend(outliers(data_new,feature))\n",
    "index_list"
   ]
  },
  {
   "cell_type": "code",
   "execution_count": 74,
   "id": "ff37ff23",
   "metadata": {},
   "outputs": [],
   "source": [
    "#define a function called 'remove' which returns a cleaned data without outliers\n",
    "\n",
    "def remove(df,ls):\n",
    "    ls=sorted(set(ls)) #to sort and remove multiple copies(to get unique)\n",
    "    df=df.drop(ls)\n",
    "    return df"
   ]
  },
  {
   "cell_type": "code",
   "execution_count": 75,
   "id": "6b1bfd2a",
   "metadata": {},
   "outputs": [
    {
     "data": {
      "text/plain": [
       "(3263, 14)"
      ]
     },
     "execution_count": 75,
     "metadata": {},
     "output_type": "execute_result"
    }
   ],
   "source": [
    "data_new.shape"
   ]
  },
  {
   "cell_type": "code",
   "execution_count": 76,
   "id": "eb54a30e",
   "metadata": {},
   "outputs": [],
   "source": [
    "data_new=remove(data_new,index_list)"
   ]
  },
  {
   "cell_type": "code",
   "execution_count": 77,
   "id": "b9913743",
   "metadata": {},
   "outputs": [
    {
     "data": {
      "text/plain": [
       "(3193, 14)"
      ]
     },
     "execution_count": 77,
     "metadata": {},
     "output_type": "execute_result"
    }
   ],
   "source": [
    "data_new.shape"
   ]
  },
  {
   "cell_type": "markdown",
   "id": "ddc578a6",
   "metadata": {},
   "source": [
    "**UsefulCount column post removal of outliers**"
   ]
  },
  {
   "cell_type": "code",
   "execution_count": 78,
   "id": "18e23368",
   "metadata": {},
   "outputs": [
    {
     "data": {
      "text/plain": [
       "Text(0.5, 1.0, 'Box plot of Useful Count')"
      ]
     },
     "execution_count": 78,
     "metadata": {},
     "output_type": "execute_result"
    },
    {
     "data": {
      "image/png": "[encoded data removed]",
      "text/plain": [
       "<Figure size 640x480 with 1 Axes>"
      ]
     },
     "metadata": {},
     "output_type": "display_data"
    }
   ],
   "source": [
    "plt.boxplot(data_new[\"UsefulCount\"])\n",
    "plt.title('Box plot of Useful Count')"
   ]
  },
  {
   "cell_type": "markdown",
   "id": "6a628fdf",
   "metadata": {},
   "source": [
    "## 6.Feature engineering"
   ]
  },
  {
   "cell_type": "code",
   "execution_count": 79,
   "id": "6e4f0876",
   "metadata": {},
   "outputs": [],
   "source": [
    "#Creation of a new SideEffects column\n",
    "\n",
    "data1=np.where(data_new['Satisfaction'] == 1.0, \"Nil\", data_new['Satisfaction'])\n",
    "data1=np.where(data_new['Satisfaction'] == 2.0, \"Mild\",data1)\n",
    "data1=np.where(data_new['Satisfaction'] == 3.0, \"Moderate\", data1)\n",
    "data1=np.where(data_new['Satisfaction'] == 4.0, \"Severe\", data1)\n",
    "data1=np.where(data_new['Satisfaction'] == 5.0, \"Extreme\",data1)"
   ]
  },
  {
   "cell_type": "code",
   "execution_count": 80,
   "id": "b2f2e68d",
   "metadata": {},
   "outputs": [],
   "source": [
    "data_new['SideEffects']=data1"
   ]
  },
  {
   "cell_type": "code",
   "execution_count": 81,
   "id": "46aa39e5",
   "metadata": {},
   "outputs": [],
   "source": [
    "#Since DrugId is the same, dropping the column\n",
    "\n",
    "data_new.drop(['Satisfaction','DrugId'], inplace=True, axis=1)"
   ]
  },
  {
   "cell_type": "code",
   "execution_count": 82,
   "id": "a069c26a",
   "metadata": {},
   "outputs": [
    {
     "data": {
      "text/html": [
       "<div>\n",
       "<style scoped>\n",
       "    .dataframe tbody tr th:only-of-type {\n",
       "        vertical-align: middle;\n",
       "    }\n",
       "\n",
       "    .dataframe tbody tr th {\n",
       "        vertical-align: top;\n",
       "    }\n",
       "\n",
       "    .dataframe thead th {\n",
       "        text-align: right;\n",
       "    }\n",
       "</style>\n",
       "<table border=\"1\" class=\"dataframe\">\n",
       "  <thead>\n",
       "    <tr style=\"text-align: right;\">\n",
       "      <th></th>\n",
       "      <th>Name</th>\n",
       "      <th>Race</th>\n",
       "      <th>Age</th>\n",
       "      <th>Condition</th>\n",
       "      <th>Date</th>\n",
       "      <th>Drug</th>\n",
       "      <th>EaseofUse</th>\n",
       "      <th>Effectiveness</th>\n",
       "      <th>Reviews</th>\n",
       "      <th>Sex</th>\n",
       "      <th>Sides</th>\n",
       "      <th>UsefulCount</th>\n",
       "      <th>SideEffects</th>\n",
       "    </tr>\n",
       "  </thead>\n",
       "  <tbody>\n",
       "    <tr>\n",
       "      <th>14356</th>\n",
       "      <td>Malik Bell</td>\n",
       "      <td>Hispanic</td>\n",
       "      <td>75-100</td>\n",
       "      <td>high blood pressure</td>\n",
       "      <td>02-08-2020</td>\n",
       "      <td>lisinopril</td>\n",
       "      <td>5.0</td>\n",
       "      <td>4.0</td>\n",
       "      <td>I developed itch rash body almost 5 years, I a...</td>\n",
       "      <td>Female</td>\n",
       "      <td>dizziness lightheadedness tiredness headache o...</td>\n",
       "      <td>3.0</td>\n",
       "      <td>Severe</td>\n",
       "    </tr>\n",
       "    <tr>\n",
       "      <th>14358</th>\n",
       "      <td>Brenda Ortiz</td>\n",
       "      <td>Asian</td>\n",
       "      <td>55-64</td>\n",
       "      <td>high blood pressure</td>\n",
       "      <td>1/14/2020</td>\n",
       "      <td>lisinopril</td>\n",
       "      <td>4.0</td>\n",
       "      <td>5.0</td>\n",
       "      <td>tried alternative medicine Beet root, hibiscus...</td>\n",
       "      <td>Male</td>\n",
       "      <td>dizziness lightheadedness tiredness headache o...</td>\n",
       "      <td>3.0</td>\n",
       "      <td>Severe</td>\n",
       "    </tr>\n",
       "    <tr>\n",
       "      <th>14364</th>\n",
       "      <td>Karen Gonzalez</td>\n",
       "      <td>Hispanic</td>\n",
       "      <td>65-74</td>\n",
       "      <td>high blood pressure</td>\n",
       "      <td>10/17/2019</td>\n",
       "      <td>lisinopril</td>\n",
       "      <td>5.0</td>\n",
       "      <td>5.0</td>\n",
       "      <td>Have taking 10 mg doses per day 9 years body s...</td>\n",
       "      <td>Male</td>\n",
       "      <td>dizziness lightheadedness tiredness headache o...</td>\n",
       "      <td>6.0</td>\n",
       "      <td>Extreme</td>\n",
       "    </tr>\n",
       "    <tr>\n",
       "      <th>14367</th>\n",
       "      <td>Taylor Smith</td>\n",
       "      <td>Asian</td>\n",
       "      <td>55-64</td>\n",
       "      <td>high blood pressure</td>\n",
       "      <td>10/13/2019</td>\n",
       "      <td>lisinopril</td>\n",
       "      <td>2.0</td>\n",
       "      <td>4.0</td>\n",
       "      <td>I like I'm taking knowing BP suddenly 20-25 pt...</td>\n",
       "      <td>Male</td>\n",
       "      <td>dizziness lightheadedness tiredness headache o...</td>\n",
       "      <td>12.0</td>\n",
       "      <td>Mild</td>\n",
       "    </tr>\n",
       "    <tr>\n",
       "      <th>14369</th>\n",
       "      <td>Stephen Harvey</td>\n",
       "      <td>Hispanic</td>\n",
       "      <td>55-64</td>\n",
       "      <td>high blood pressure</td>\n",
       "      <td>8/16/2019</td>\n",
       "      <td>lisinopril</td>\n",
       "      <td>3.0</td>\n",
       "      <td>1.0</td>\n",
       "      <td>Was medicine 2 months coughing head especially...</td>\n",
       "      <td>Female</td>\n",
       "      <td>dizziness lightheadedness tiredness headache o...</td>\n",
       "      <td>22.0</td>\n",
       "      <td>Nil</td>\n",
       "    </tr>\n",
       "  </tbody>\n",
       "</table>\n",
       "</div>"
      ],
      "text/plain": [
       "                 Name      Race     Age            Condition        Date  \\\n",
       "14356      Malik Bell  Hispanic  75-100  high blood pressure  02-08-2020   \n",
       "14358    Brenda Ortiz     Asian   55-64  high blood pressure   1/14/2020   \n",
       "14364  Karen Gonzalez  Hispanic   65-74  high blood pressure  10/17/2019   \n",
       "14367    Taylor Smith     Asian   55-64  high blood pressure  10/13/2019   \n",
       "14369  Stephen Harvey  Hispanic   55-64  high blood pressure   8/16/2019   \n",
       "\n",
       "             Drug  EaseofUse  Effectiveness  \\\n",
       "14356  lisinopril        5.0            4.0   \n",
       "14358  lisinopril        4.0            5.0   \n",
       "14364  lisinopril        5.0            5.0   \n",
       "14367  lisinopril        2.0            4.0   \n",
       "14369  lisinopril        3.0            1.0   \n",
       "\n",
       "                                                 Reviews     Sex  \\\n",
       "14356  I developed itch rash body almost 5 years, I a...  Female   \n",
       "14358  tried alternative medicine Beet root, hibiscus...    Male   \n",
       "14364  Have taking 10 mg doses per day 9 years body s...    Male   \n",
       "14367  I like I'm taking knowing BP suddenly 20-25 pt...    Male   \n",
       "14369  Was medicine 2 months coughing head especially...  Female   \n",
       "\n",
       "                                                   Sides  UsefulCount  \\\n",
       "14356  dizziness lightheadedness tiredness headache o...          3.0   \n",
       "14358  dizziness lightheadedness tiredness headache o...          3.0   \n",
       "14364  dizziness lightheadedness tiredness headache o...          6.0   \n",
       "14367  dizziness lightheadedness tiredness headache o...         12.0   \n",
       "14369  dizziness lightheadedness tiredness headache o...         22.0   \n",
       "\n",
       "      SideEffects  \n",
       "14356      Severe  \n",
       "14358      Severe  \n",
       "14364     Extreme  \n",
       "14367        Mild  \n",
       "14369         Nil  "
      ]
     },
     "execution_count": 82,
     "metadata": {},
     "output_type": "execute_result"
    }
   ],
   "source": [
    "data_new.head()"
   ]
  },
  {
   "cell_type": "code",
   "execution_count": 83,
   "id": "059cdea0",
   "metadata": {},
   "outputs": [],
   "source": [
    "data_new.to_csv('drug_lisinopril_eda.csv', index=False)"
   ]
  },
  {
   "cell_type": "code",
   "execution_count": 84,
   "id": "c39efeb3",
   "metadata": {},
   "outputs": [],
   "source": [
    "data_copy = data_new.copy()"
   ]
  },
  {
   "cell_type": "markdown",
   "id": "38669789",
   "metadata": {},
   "source": [
    "# Exploratory Data Analysis"
   ]
  },
  {
   "cell_type": "markdown",
   "id": "98ddecc4",
   "metadata": {},
   "source": [
    "## 1. Top 20 Drugs"
   ]
  },
  {
   "cell_type": "code",
   "execution_count": 85,
   "id": "4e9a9dd2",
   "metadata": {},
   "outputs": [
    {
     "data": {
      "image/png": "[encoded data removed]",
      "text/plain": [
       "<Figure size 640x480 with 1 Axes>"
      ]
     },
     "metadata": {},
     "output_type": "display_data"
    }
   ],
   "source": [
    "data1= data['Drug'].value_counts().head(20).reset_index()\n",
    "data1.columns = ['Drug', 'Users']\n",
    "sns.barplot(data=data1, x = 'Drug', y = 'Users')\n",
    "plt.suptitle(\"Top 20 Drugs\")\n",
    "plt.xticks(rotation=90,fontsize=10)\n",
    "plt.show()"
   ]
  },
  {
   "cell_type": "markdown",
   "id": "ee59eb0b",
   "metadata": {},
   "source": [
    "**Insight:**<br>\n",
    "    \n",
    "Cymbalta has the maximum number of users"
   ]
  },
  {
   "cell_type": "markdown",
   "id": "a399c153",
   "metadata": {},
   "source": [
    "## 2. Top 20 Conditions"
   ]
  },
  {
   "cell_type": "code",
   "execution_count": 86,
   "id": "264c49ff",
   "metadata": {},
   "outputs": [
    {
     "data": {
      "text/plain": [
       "Text(0, 0.5, 'Users')"
      ]
     },
     "execution_count": 86,
     "metadata": {},
     "output_type": "execute_result"
    },
    {
     "data": {
      "image/png": "[encoded data removed]",
      "text/plain": [
       "<Figure size 800x800 with 1 Axes>"
      ]
     },
     "metadata": {},
     "output_type": "display_data"
    }
   ],
   "source": [
    "data['Condition'].value_counts().nlargest(20).plot(kind='bar',figsize=(8,8))\n",
    "plt.suptitle(\"Top 20 Conditions\")\n",
    "plt.xlabel('Conditions')\n",
    "plt.ylabel('Users')"
   ]
  },
  {
   "cell_type": "markdown",
   "id": "07a60989",
   "metadata": {},
   "source": [
    "**Insight:**<br>\n",
    "    \n",
    "Out of 1806 Conditions, Other Conditions tops the chart followed respectively by Pain and High Blood Pressure."
   ]
  },
  {
   "cell_type": "markdown",
   "id": "9414a9d2",
   "metadata": {},
   "source": [
    "**The above being interpretation of the generic data, in line with the objective of OUR project,we will now move ahead by selecting a particular drug Lisinopril, one featuring in the top 5.**"
   ]
  },
  {
   "cell_type": "markdown",
   "id": "e71b556b",
   "metadata": {},
   "source": [
    "## 3. Top 12 Conditions - Lisinopril"
   ]
  },
  {
   "cell_type": "code",
   "execution_count": 87,
   "id": "8e38f6e3",
   "metadata": {},
   "outputs": [
    {
     "data": {
      "text/plain": [
       "Text(0, 0.5, 'Count')"
      ]
     },
     "execution_count": 87,
     "metadata": {},
     "output_type": "execute_result"
    },
    {
     "data": {
      "image/png": "[encoded data removed]",
      "text/plain": [
       "<Figure size 600x500 with 1 Axes>"
      ]
     },
     "metadata": {},
     "output_type": "display_data"
    }
   ],
   "source": [
    "drug_lisinopril['Condition'].value_counts().nlargest(12).plot(kind='bar',figsize=(6,5))\n",
    "plt.suptitle(\"Top Conditions for using Lisinopril\")\n",
    "plt.xlabel('Condition')\n",
    "plt.ylabel('Count')"
   ]
  },
  {
   "cell_type": "markdown",
   "id": "13390daf",
   "metadata": {},
   "source": [
    "**Insight:**<br>\n",
    "    \n",
    "Maximum users consume the drug for High blood pressure. The drug is mainly used for 12 conditions listed above."
   ]
  },
  {
   "cell_type": "markdown",
   "id": "c7341456",
   "metadata": {},
   "source": [
    "## 4. Users by Gender - Lisinopril"
   ]
  },
  {
   "cell_type": "code",
   "execution_count": 88,
   "id": "fa2a2daa",
   "metadata": {},
   "outputs": [
    {
     "data": {
      "image/png": "[encoded data removed]",
      "text/plain": [
       "<Figure size 400x400 with 1 Axes>"
      ]
     },
     "metadata": {},
     "output_type": "display_data"
    }
   ],
   "source": [
    "plt.figure(figsize = (4,4))\n",
    "s=sns.countplot(x='Sex', data=data_copy)\n",
    "plt.title('Gender distribution', fontsize=15)\n",
    "plt.xlabel('Sex \\n \\n Female count:{0:0.2f}% \\n \\n Male count:{1:0.2f}%'.format(data_copy['Sex'].value_counts(normalize=True)[0]*100, data_copy['Sex'].value_counts(normalize=True)[1]*100), fontsize=15)\n",
    "plt.ylabel('Count') \n",
    "plt.show()\n",
    "\n",
    "\n",
    "     "
   ]
  },
  {
   "cell_type": "markdown",
   "id": "9f2cf8ff",
   "metadata": {},
   "source": [
    "**Insight:**<br>\n",
    "    \n",
    "Females uses the drug more compared to males."
   ]
  },
  {
   "cell_type": "markdown",
   "id": "1f024eb6",
   "metadata": {},
   "source": [
    "## 5. Users by Race - Lisinopril"
   ]
  },
  {
   "cell_type": "code",
   "execution_count": 89,
   "id": "fc57e451",
   "metadata": {},
   "outputs": [
    {
     "data": {
      "text/plain": [
       "Text(0, 0.5, 'Count')"
      ]
     },
     "execution_count": 89,
     "metadata": {},
     "output_type": "execute_result"
    },
    {
     "data": {
      "image/png": "[encoded data removed]",
      "text/plain": [
       "<Figure size 640x480 with 1 Axes>"
      ]
     },
     "metadata": {},
     "output_type": "display_data"
    }
   ],
   "source": [
    "data_copy['Race'].value_counts().plot(kind='bar')\n",
    "plt.title(\"Race distribution\", fontsize = 10)\n",
    "plt.xlabel(\"Race\", fontsize = 10)\n",
    "plt.ylabel(\"Count\", fontsize = 10)"
   ]
  },
  {
   "cell_type": "markdown",
   "id": "f5f2433a",
   "metadata": {},
   "source": [
    "**Insight:**<br>\n",
    "    \n",
    "Lisinopril drug is mostly consumed by Whites followed by Hispanic followed by Black and least used by Asian."
   ]
  },
  {
   "cell_type": "markdown",
   "id": "48f07f04",
   "metadata": {},
   "source": [
    "## 6. Users by Race and Gender"
   ]
  },
  {
   "cell_type": "code",
   "execution_count": 90,
   "id": "1aa2a57d",
   "metadata": {},
   "outputs": [
    {
     "data": {
      "text/plain": [
       "Text(0.5, 1.0, 'Users by Race and Gender')"
      ]
     },
     "execution_count": 90,
     "metadata": {},
     "output_type": "execute_result"
    },
    {
     "data": {
      "image/png": "[encoded data removed]",
      "text/plain": [
       "<Figure size 640x480 with 1 Axes>"
      ]
     },
     "metadata": {},
     "output_type": "display_data"
    }
   ],
   "source": [
    "sns.countplot(x='Race',hue='Sex',data=data_copy)\n",
    "plt.title(\"Users by Race and Gender\", fontsize = 10)"
   ]
  },
  {
   "cell_type": "markdown",
   "id": "b931e983",
   "metadata": {},
   "source": [
    "**Insight:**<br>\n",
    "    \n",
    "Females dominate the consumption of Lisinopril drug within each race."
   ]
  },
  {
   "cell_type": "markdown",
   "id": "fc4cfa03",
   "metadata": {},
   "source": [
    "## 7. Users by Age and Gender"
   ]
  },
  {
   "cell_type": "code",
   "execution_count": 91,
   "id": "d599e7c8",
   "metadata": {},
   "outputs": [
    {
     "data": {
      "text/plain": [
       "Text(0.5, 1.0, 'Users by Age and Gender')"
      ]
     },
     "execution_count": 91,
     "metadata": {},
     "output_type": "execute_result"
    },
    {
     "data": {
      "image/png": "[encoded data removed]",
      "text/plain": [
       "<Figure size 1000x600 with 1 Axes>"
      ]
     },
     "metadata": {},
     "output_type": "display_data"
    }
   ],
   "source": [
    "plt.figure(figsize=(10, 6))\n",
    "sns.countplot(x='Age',hue='Sex',data=data_copy)\n",
    "plt.title(\"Users by Age and Gender\", fontsize = 10)"
   ]
  },
  {
   "cell_type": "markdown",
   "id": "ff1d76a8",
   "metadata": {},
   "source": [
    "**Insight:**<br>\n",
    "    \n",
    "Consumption of the drug by female users is visbly dominant across age groups above 24 and below 75 years. Plus, people in the age groups 45 to 54 and 55 to 64 accounted for maximum usage of Lisinopril."
   ]
  },
  {
   "cell_type": "markdown",
   "id": "30f8af46",
   "metadata": {},
   "source": [
    "## 8. Correlation Heatmap"
   ]
  },
  {
   "cell_type": "code",
   "execution_count": 92,
   "id": "2e2bff85",
   "metadata": {},
   "outputs": [
    {
     "data": {
      "text/plain": [
       "<Axes: >"
      ]
     },
     "execution_count": 92,
     "metadata": {},
     "output_type": "execute_result"
    },
    {
     "data": {
      "image/png": "[encoded data removed]",
      "text/plain": [
       "<Figure size 800x600 with 2 Axes>"
      ]
     },
     "metadata": {},
     "output_type": "display_data"
    }
   ],
   "source": [
    "corrmatrix = data_copy.corr()\n",
    "plt.figure(figsize=(8,6))\n",
    "sns.heatmap(corrmatrix,vmin=-0.4 , vmax=0.9, annot=True, cmap='YlGnBu' , linewidth=0.2)"
   ]
  },
  {
   "cell_type": "markdown",
   "id": "d293f401",
   "metadata": {},
   "source": [
    "**Insight:**<br>\n",
    "    \n",
    "Correlation is used to find relationship between variables.\n",
    "Here, variables are weakly or moderately correlated to each other."
   ]
  },
  {
   "cell_type": "markdown",
   "id": "1b598d66",
   "metadata": {},
   "source": [
    "## 9. Yearly Reviews - Lisinopril"
   ]
  },
  {
   "cell_type": "code",
   "execution_count": 93,
   "id": "eb95bef8",
   "metadata": {},
   "outputs": [],
   "source": [
    "data_copy['Date'] = pd.to_datetime(data_copy['Date'], errors = 'coerce')"
   ]
  },
  {
   "cell_type": "code",
   "execution_count": 94,
   "id": "16e191b8",
   "metadata": {},
   "outputs": [],
   "source": [
    "#extracting year from Date\n",
    "\n",
    "data_copy['Year'] = data_copy['Date'].dt.year"
   ]
  },
  {
   "cell_type": "code",
   "execution_count": 95,
   "id": "f2bad569",
   "metadata": {},
   "outputs": [
    {
     "data": {
      "image/png": "[encoded data removed]",
      "text/plain": [
       "<Figure size 1000x400 with 1 Axes>"
      ]
     },
     "metadata": {},
     "output_type": "display_data"
    }
   ],
   "source": [
    "\n",
    "plt.figure(figsize=(10, 4))\n",
    "sns.countplot(data=data_copy, x='Year', palette='colorblind')\n",
    "plt.title('Number of yearly reviews', fontsize=15)\n",
    "plt.xlabel('Year', fontsize=15)\n",
    "plt.ylabel('Count of Reviews', fontsize=15)\n",
    "plt.xticks(rotation=45)\n",
    "plt.show()\n"
   ]
  },
  {
   "cell_type": "markdown",
   "id": "7039b6a8",
   "metadata": {},
   "source": [
    "**Insight:**<br>\n",
    "    \n",
    "Lisinopril’s yearly reviews peaked in 2009 and reduced gradually thereafter."
   ]
  },
  {
   "cell_type": "markdown",
   "id": "685c549b",
   "metadata": {},
   "source": [
    "## 10. Effectiveness"
   ]
  },
  {
   "cell_type": "code",
   "execution_count": 96,
   "id": "942fb4d8",
   "metadata": {},
   "outputs": [
    {
     "data": {
      "text/plain": [
       "Text(0, 0.5, 'Count')"
      ]
     },
     "execution_count": 96,
     "metadata": {},
     "output_type": "execute_result"
    },
    {
     "data": {
      "image/png": "[encoded data removed]",
      "text/plain": [
       "<Figure size 640x480 with 1 Axes>"
      ]
     },
     "metadata": {},
     "output_type": "display_data"
    }
   ],
   "source": [
    "data_copy['Effectiveness'].value_counts().plot(kind='bar')\n",
    "plt.title(\"Effectiveness of the drug\", fontsize = 10)\n",
    "plt.xlabel(\"Effectiveness\", fontsize = 10)\n",
    "plt.ylabel(\"Count\", fontsize = 10)"
   ]
  },
  {
   "cell_type": "markdown",
   "id": "77673618",
   "metadata": {},
   "source": [
    "**Insight:**<br>\n",
    "    \n",
    "Most users found Lisinopril drug effective.But it cannot be considered the best drug as seen from the above graph."
   ]
  },
  {
   "cell_type": "markdown",
   "id": "f4798ebd",
   "metadata": {},
   "source": [
    "## 11. Ease of Use"
   ]
  },
  {
   "cell_type": "code",
   "execution_count": 97,
   "id": "e2f9a526",
   "metadata": {},
   "outputs": [
    {
     "data": {
      "text/plain": [
       "Text(0, 0.5, 'Count')"
      ]
     },
     "execution_count": 97,
     "metadata": {},
     "output_type": "execute_result"
    },
    {
     "data": {
      "image/png": "[encoded data removed]",
      "text/plain": [
       "<Figure size 640x480 with 1 Axes>"
      ]
     },
     "metadata": {},
     "output_type": "display_data"
    }
   ],
   "source": [
    "data_copy['EaseofUse'].value_counts().plot(kind='bar')\n",
    "plt.title(\"Ease of use\", fontsize = 10)\n",
    "plt.xlabel(\"EaseofUse\", fontsize = 10)\n",
    "plt.ylabel(\"Count\", fontsize = 10)"
   ]
  },
  {
   "cell_type": "markdown",
   "id": "8eb2763d",
   "metadata": {},
   "source": [
    "**Insight:**<br>\n",
    "    \n",
    "Most users rated Lisinopril highly for its ease of use."
   ]
  },
  {
   "cell_type": "markdown",
   "id": "6839ef30",
   "metadata": {},
   "source": [
    "## 12. Useful Count"
   ]
  },
  {
   "cell_type": "code",
   "execution_count": 98,
   "id": "c0ac8db3",
   "metadata": {},
   "outputs": [
    {
     "data": {
      "text/plain": [
       "Text(0, 0.5, 'Count')"
      ]
     },
     "execution_count": 98,
     "metadata": {},
     "output_type": "execute_result"
    },
    {
     "data": {
      "image/png": "[encoded data removed]",
      "text/plain": [
       "<Figure size 640x480 with 1 Axes>"
      ]
     },
     "metadata": {},
     "output_type": "display_data"
    }
   ],
   "source": [
    "data_copy['UsefulCount'].value_counts().plot(kind='bar')\n",
    "plt.title(\"Usefulness of Review\", fontsize = 15)\n",
    "plt.xlabel(\"UsefulCount\", fontsize = 15)\n",
    "plt.ylabel(\"Count\", fontsize = 15)"
   ]
  },
  {
   "cell_type": "markdown",
   "id": "3217c4f4",
   "metadata": {},
   "source": [
    "**Insight:**<br>\n",
    "    \n",
    "As with usefulness of reviews, Lisinopril users throw a mixed bag with most not finding the reviews beneficial."
   ]
  },
  {
   "cell_type": "markdown",
   "id": "9d6841b7",
   "metadata": {},
   "source": [
    "## 13. Users by Effectiveness and Gender"
   ]
  },
  {
   "cell_type": "code",
   "execution_count": 99,
   "id": "fd6eff5e",
   "metadata": {},
   "outputs": [
    {
     "data": {
      "text/plain": [
       "<Figure size 1000x800 with 0 Axes>"
      ]
     },
     "metadata": {},
     "output_type": "display_data"
    },
    {
     "data": {
      "image/png": "[encoded data removed]",
      "text/plain": [
       "<Figure size 1080x600 with 2 Axes>"
      ]
     },
     "metadata": {},
     "output_type": "display_data"
    }
   ],
   "source": [
    "plt.figure(figsize=(10,8))\n",
    "g = sns.catplot(x=\"Effectiveness\",col=\"Sex\",\n",
    "                data=data_copy, kind=\"count\",\n",
    "                height=6,aspect =.9)"
   ]
  },
  {
   "cell_type": "markdown",
   "id": "65872b82",
   "metadata": {},
   "source": [
    "**Insight:**<br>\n",
    "    \n",
    "Males and females have similar kind of effectiveness review for the drug. Graphs look different as the male consumption of the is drug is low compared to females.Most males were totally satisfied with the effectiveness of the drug. But thats not the case with females."
   ]
  },
  {
   "cell_type": "markdown",
   "id": "9ad9ed1a",
   "metadata": {},
   "source": [
    "## 14. Side Effects"
   ]
  },
  {
   "cell_type": "code",
   "execution_count": 100,
   "id": "2c32b00b",
   "metadata": {},
   "outputs": [
    {
     "data": {
      "image/png": "[encoded data removed]",
      "text/plain": [
       "<Figure size 700x700 with 1 Axes>"
      ]
     },
     "metadata": {},
     "output_type": "display_data"
    }
   ],
   "source": [
    "plt.figure(figsize=(7,7))\n",
    "data_copy['SideEffects'].value_counts().plot.pie(autopct='%1.1f%%',shadow=True)\n",
    "plt.show()"
   ]
  },
  {
   "cell_type": "markdown",
   "id": "57ccd052",
   "metadata": {},
   "source": [
    "**Insight:**<br>\n",
    "    \n",
    "Majority of consumers did not have any side effects. Many had Extreme side effects, some had Moderate side effects, a few had Mild side effect and a very few had Severe side effect."
   ]
  },
  {
   "cell_type": "markdown",
   "id": "e7b6ab9f",
   "metadata": {},
   "source": [
    "## 15. Side Effects with respect to Age"
   ]
  },
  {
   "cell_type": "code",
   "execution_count": 101,
   "id": "662a6442",
   "metadata": {},
   "outputs": [
    {
     "data": {
      "text/plain": [
       "<Axes: xlabel='Age', ylabel='count'>"
      ]
     },
     "execution_count": 101,
     "metadata": {},
     "output_type": "execute_result"
    },
    {
     "data": {
      "image/png": "[encoded data removed]",
      "text/plain": [
       "<Figure size 1000x600 with 1 Axes>"
      ]
     },
     "metadata": {},
     "output_type": "display_data"
    }
   ],
   "source": [
    "plt.figure(figsize=(10, 6))\n",
    "sns.countplot(x='Age',hue='SideEffects',data=data_copy)"
   ]
  },
  {
   "cell_type": "markdown",
   "id": "d62c59cc",
   "metadata": {},
   "source": [
    "**Insight:**<br>\n",
    "    \n",
    "In almost all age groups majority of consumers did not have any side effects. No side effects topped in the age groups between 55-64."
   ]
  },
  {
   "cell_type": "markdown",
   "id": "a21cebdf",
   "metadata": {},
   "source": [
    "## 16. Side Effects with respect to Gender"
   ]
  },
  {
   "cell_type": "code",
   "execution_count": 102,
   "id": "29696445",
   "metadata": {},
   "outputs": [
    {
     "data": {
      "text/plain": [
       "<Figure size 2000x1000 with 0 Axes>"
      ]
     },
     "metadata": {},
     "output_type": "display_data"
    },
    {
     "data": {
      "image/png": "[encoded data removed]",
      "text/plain": [
       "<Figure size 1080x600 with 2 Axes>"
      ]
     },
     "metadata": {},
     "output_type": "display_data"
    }
   ],
   "source": [
    "plt.figure(figsize=(20,10))\n",
    "g = sns.catplot(x=\"SideEffects\",col=\"Sex\",data=data_copy, kind=\"count\",height=6,aspect =.9)"
   ]
  },
  {
   "cell_type": "markdown",
   "id": "c390347d",
   "metadata": {},
   "source": [
    "**Insight:**<br>\n",
    "    \n",
    "For females, majority did not have any side effects. In the case of males, Extreme and Moderate side effect cases are not very low compared to no side effects."
   ]
  },
  {
   "cell_type": "markdown",
   "id": "e5267456",
   "metadata": {},
   "source": [
    "## 17. Side Effects with respect to Race"
   ]
  },
  {
   "cell_type": "code",
   "execution_count": 103,
   "id": "d0fa005b",
   "metadata": {},
   "outputs": [
    {
     "data": {
      "text/plain": [
       "<Axes: xlabel='Race', ylabel='count'>"
      ]
     },
     "execution_count": 103,
     "metadata": {},
     "output_type": "execute_result"
    },
    {
     "data": {
      "image/png": "[encoded data removed]",
      "text/plain": [
       "<Figure size 1000x600 with 1 Axes>"
      ]
     },
     "metadata": {},
     "output_type": "display_data"
    }
   ],
   "source": [
    "plt.figure(figsize=(10, 6))\n",
    "sns.countplot(x='Race',hue='SideEffects',data=data_copy)"
   ]
  },
  {
   "cell_type": "markdown",
   "id": "b8eb922e",
   "metadata": {},
   "source": [
    "**Insight:**<br>\n",
    "    \n",
    "Side effects proved race neutral with proportionate results."
   ]
  },
  {
   "cell_type": "markdown",
   "id": "db7018b9",
   "metadata": {},
   "source": [
    "## 7. Feature reduction"
   ]
  },
  {
   "cell_type": "markdown",
   "id": "9e479994",
   "metadata": {},
   "source": [
    "**Correlation analysis**"
   ]
  },
  {
   "cell_type": "code",
   "execution_count": 104,
   "id": "aff1d2cb",
   "metadata": {},
   "outputs": [
    {
     "data": {
      "text/plain": [
       "<Axes: >"
      ]
     },
     "execution_count": 104,
     "metadata": {},
     "output_type": "execute_result"
    },
    {
     "data": {
      "image/png": "[encoded data removed]",
      "text/plain": [
       "<Figure size 1000x800 with 2 Axes>"
      ]
     },
     "metadata": {},
     "output_type": "display_data"
    }
   ],
   "source": [
    "corrmatrix = data_new.corr()\n",
    "plt.figure(figsize=(10,8))\n",
    "sns.heatmap(corrmatrix,vmin=-0.4 , vmax=0.9, annot=True, cmap='YlGnBu' , linewidth=0.2)"
   ]
  },
  {
   "cell_type": "markdown",
   "id": "e12f1256",
   "metadata": {},
   "source": [
    "Correlation matrix is plotted to check the relationship between variables"
   ]
  },
  {
   "cell_type": "markdown",
   "id": "b6427d5e",
   "metadata": {},
   "source": [
    "**Dropping the Drug and Sides column as there is only one variable in that feature. The other columns such as Name, Race, Date, EaseofUse, Reviews and UsefulCount are also being dropped as these does not contribute anything towards the side effects of the drug.**"
   ]
  },
  {
   "cell_type": "code",
   "execution_count": 105,
   "id": "f6c3b2ec",
   "metadata": {},
   "outputs": [
    {
     "data": {
      "text/html": [
       "<div>\n",
       "<style scoped>\n",
       "    .dataframe tbody tr th:only-of-type {\n",
       "        vertical-align: middle;\n",
       "    }\n",
       "\n",
       "    .dataframe tbody tr th {\n",
       "        vertical-align: top;\n",
       "    }\n",
       "\n",
       "    .dataframe thead th {\n",
       "        text-align: right;\n",
       "    }\n",
       "</style>\n",
       "<table border=\"1\" class=\"dataframe\">\n",
       "  <thead>\n",
       "    <tr style=\"text-align: right;\">\n",
       "      <th></th>\n",
       "      <th>Age</th>\n",
       "      <th>Condition</th>\n",
       "      <th>Effectiveness</th>\n",
       "      <th>Sex</th>\n",
       "      <th>SideEffects</th>\n",
       "    </tr>\n",
       "  </thead>\n",
       "  <tbody>\n",
       "    <tr>\n",
       "      <th>0</th>\n",
       "      <td>75-100</td>\n",
       "      <td>high blood pressure</td>\n",
       "      <td>4.0</td>\n",
       "      <td>Female</td>\n",
       "      <td>Severe</td>\n",
       "    </tr>\n",
       "    <tr>\n",
       "      <th>1</th>\n",
       "      <td>55-64</td>\n",
       "      <td>high blood pressure</td>\n",
       "      <td>5.0</td>\n",
       "      <td>Male</td>\n",
       "      <td>Severe</td>\n",
       "    </tr>\n",
       "    <tr>\n",
       "      <th>2</th>\n",
       "      <td>65-74</td>\n",
       "      <td>high blood pressure</td>\n",
       "      <td>5.0</td>\n",
       "      <td>Male</td>\n",
       "      <td>Extreme</td>\n",
       "    </tr>\n",
       "    <tr>\n",
       "      <th>3</th>\n",
       "      <td>55-64</td>\n",
       "      <td>high blood pressure</td>\n",
       "      <td>4.0</td>\n",
       "      <td>Male</td>\n",
       "      <td>Mild</td>\n",
       "    </tr>\n",
       "    <tr>\n",
       "      <th>4</th>\n",
       "      <td>55-64</td>\n",
       "      <td>high blood pressure</td>\n",
       "      <td>1.0</td>\n",
       "      <td>Female</td>\n",
       "      <td>Nil</td>\n",
       "    </tr>\n",
       "  </tbody>\n",
       "</table>\n",
       "</div>"
      ],
      "text/plain": [
       "      Age            Condition  Effectiveness     Sex SideEffects\n",
       "0  75-100  high blood pressure            4.0  Female      Severe\n",
       "1   55-64  high blood pressure            5.0    Male      Severe\n",
       "2   65-74  high blood pressure            5.0    Male     Extreme\n",
       "3   55-64  high blood pressure            4.0    Male        Mild\n",
       "4   55-64  high blood pressure            1.0  Female         Nil"
      ]
     },
     "execution_count": 105,
     "metadata": {},
     "output_type": "execute_result"
    }
   ],
   "source": [
    "data_new=data_new.drop(columns = ['Name','Race','Date','Drug','EaseofUse','Reviews','Sides','UsefulCount'],axis=1)\n",
    "data_new=data_new.reset_index(drop=True)\n",
    "data_new.head()"
   ]
  },
  {
   "cell_type": "code",
   "execution_count": 106,
   "id": "a12b7339",
   "metadata": {},
   "outputs": [
    {
     "data": {
      "text/plain": [
       "(3193, 5)"
      ]
     },
     "execution_count": 106,
     "metadata": {},
     "output_type": "execute_result"
    }
   ],
   "source": [
    "data_new.shape"
   ]
  },
  {
   "cell_type": "markdown",
   "id": "b47ff8d0",
   "metadata": {},
   "source": [
    "## 8. Encoding"
   ]
  },
  {
   "cell_type": "code",
   "execution_count": 107,
   "id": "1b0ec72b",
   "metadata": {},
   "outputs": [
    {
     "name": "stdout",
     "output_type": "stream",
     "text": [
      "<class 'pandas.core.frame.DataFrame'>\n",
      "RangeIndex: 3193 entries, 0 to 3192\n",
      "Data columns (total 5 columns):\n",
      " #   Column         Non-Null Count  Dtype   \n",
      "---  ------         --------------  -----   \n",
      " 0   Age            3193 non-null   category\n",
      " 1   Condition      3193 non-null   category\n",
      " 2   Effectiveness  3193 non-null   float64 \n",
      " 3   Sex            3193 non-null   category\n",
      " 4   SideEffects    3193 non-null   category\n",
      "dtypes: category(4), float64(1)\n",
      "memory usage: 38.6 KB\n"
     ]
    }
   ],
   "source": [
    "#Finding categorical columns and changing datatype\n",
    "\n",
    "for cl in data_new.select_dtypes(include = ['object']):\n",
    "    data_new[cl]=data_new[cl].astype('category')\n",
    "data_new.info()"
   ]
  },
  {
   "cell_type": "code",
   "execution_count": 108,
   "id": "8d870555",
   "metadata": {},
   "outputs": [],
   "source": [
    "from sklearn.preprocessing import LabelEncoder\n",
    "label=LabelEncoder()"
   ]
  },
  {
   "cell_type": "code",
   "execution_count": 109,
   "id": "746fb7ab",
   "metadata": {},
   "outputs": [
    {
     "name": "stdout",
     "output_type": "stream",
     "text": [
      "<class 'pandas.core.frame.DataFrame'>\n",
      "RangeIndex: 3193 entries, 0 to 3192\n",
      "Data columns (total 5 columns):\n",
      " #   Column         Non-Null Count  Dtype   \n",
      "---  ------         --------------  -----   \n",
      " 0   Age            3193 non-null   category\n",
      " 1   Condition      3193 non-null   category\n",
      " 2   Effectiveness  3193 non-null   float64 \n",
      " 3   Sex            3193 non-null   category\n",
      " 4   SideEffects    3193 non-null   category\n",
      "dtypes: category(4), float64(1)\n",
      "memory usage: 38.6 KB\n"
     ]
    }
   ],
   "source": [
    "data_new.info()"
   ]
  },
  {
   "cell_type": "code",
   "execution_count": 110,
   "id": "20c5b390",
   "metadata": {},
   "outputs": [
    {
     "data": {
      "text/plain": [
       "Index(['Age', 'Condition', 'Effectiveness', 'Sex', 'SideEffects'], dtype='object')"
      ]
     },
     "execution_count": 110,
     "metadata": {},
     "output_type": "execute_result"
    }
   ],
   "source": [
    "data_new.columns"
   ]
  },
  {
   "cell_type": "code",
   "execution_count": 111,
   "id": "6d4bea06",
   "metadata": {},
   "outputs": [
    {
     "data": {
      "text/html": [
       "<div>\n",
       "<style scoped>\n",
       "    .dataframe tbody tr th:only-of-type {\n",
       "        vertical-align: middle;\n",
       "    }\n",
       "\n",
       "    .dataframe tbody tr th {\n",
       "        vertical-align: top;\n",
       "    }\n",
       "\n",
       "    .dataframe thead th {\n",
       "        text-align: right;\n",
       "    }\n",
       "</style>\n",
       "<table border=\"1\" class=\"dataframe\">\n",
       "  <thead>\n",
       "    <tr style=\"text-align: right;\">\n",
       "      <th></th>\n",
       "      <th>Age</th>\n",
       "      <th>Condition</th>\n",
       "      <th>Effectiveness</th>\n",
       "      <th>Sex</th>\n",
       "      <th>SideEffects</th>\n",
       "    </tr>\n",
       "  </thead>\n",
       "  <tbody>\n",
       "    <tr>\n",
       "      <th>0</th>\n",
       "      <td>75-100</td>\n",
       "      <td>high blood pressure</td>\n",
       "      <td>4.0</td>\n",
       "      <td>Female</td>\n",
       "      <td>Severe</td>\n",
       "    </tr>\n",
       "    <tr>\n",
       "      <th>1</th>\n",
       "      <td>55-64</td>\n",
       "      <td>high blood pressure</td>\n",
       "      <td>5.0</td>\n",
       "      <td>Male</td>\n",
       "      <td>Severe</td>\n",
       "    </tr>\n",
       "    <tr>\n",
       "      <th>2</th>\n",
       "      <td>65-74</td>\n",
       "      <td>high blood pressure</td>\n",
       "      <td>5.0</td>\n",
       "      <td>Male</td>\n",
       "      <td>Extreme</td>\n",
       "    </tr>\n",
       "    <tr>\n",
       "      <th>3</th>\n",
       "      <td>55-64</td>\n",
       "      <td>high blood pressure</td>\n",
       "      <td>4.0</td>\n",
       "      <td>Male</td>\n",
       "      <td>Mild</td>\n",
       "    </tr>\n",
       "    <tr>\n",
       "      <th>4</th>\n",
       "      <td>55-64</td>\n",
       "      <td>high blood pressure</td>\n",
       "      <td>1.0</td>\n",
       "      <td>Female</td>\n",
       "      <td>Nil</td>\n",
       "    </tr>\n",
       "  </tbody>\n",
       "</table>\n",
       "</div>"
      ],
      "text/plain": [
       "      Age            Condition  Effectiveness     Sex SideEffects\n",
       "0  75-100  high blood pressure            4.0  Female      Severe\n",
       "1   55-64  high blood pressure            5.0    Male      Severe\n",
       "2   65-74  high blood pressure            5.0    Male     Extreme\n",
       "3   55-64  high blood pressure            4.0    Male        Mild\n",
       "4   55-64  high blood pressure            1.0  Female         Nil"
      ]
     },
     "execution_count": 111,
     "metadata": {},
     "output_type": "execute_result"
    }
   ],
   "source": [
    "data_new.head()"
   ]
  },
  {
   "cell_type": "code",
   "execution_count": 112,
   "id": "0c7050c4",
   "metadata": {},
   "outputs": [],
   "source": [
    "from sklearn.preprocessing import LabelEncoder\n",
    "label=LabelEncoder()\n",
    "for col in ['Age','Condition','Sex','SideEffects']:   \n",
    "    data_new[col]=label.fit_transform((data_new[col]).astype(str))\n",
    "    \n",
    "data_label=data_new"
   ]
  },
  {
   "cell_type": "code",
   "execution_count": 113,
   "id": "b71dd0f7",
   "metadata": {},
   "outputs": [
    {
     "data": {
      "text/html": [
       "<div>\n",
       "<style scoped>\n",
       "    .dataframe tbody tr th:only-of-type {\n",
       "        vertical-align: middle;\n",
       "    }\n",
       "\n",
       "    .dataframe tbody tr th {\n",
       "        vertical-align: top;\n",
       "    }\n",
       "\n",
       "    .dataframe thead th {\n",
       "        text-align: right;\n",
       "    }\n",
       "</style>\n",
       "<table border=\"1\" class=\"dataframe\">\n",
       "  <thead>\n",
       "    <tr style=\"text-align: right;\">\n",
       "      <th></th>\n",
       "      <th>Age</th>\n",
       "      <th>Condition</th>\n",
       "      <th>Effectiveness</th>\n",
       "      <th>Sex</th>\n",
       "      <th>SideEffects</th>\n",
       "    </tr>\n",
       "  </thead>\n",
       "  <tbody>\n",
       "    <tr>\n",
       "      <th>0</th>\n",
       "      <td>8</td>\n",
       "      <td>4</td>\n",
       "      <td>4.0</td>\n",
       "      <td>0</td>\n",
       "      <td>4</td>\n",
       "    </tr>\n",
       "    <tr>\n",
       "      <th>1</th>\n",
       "      <td>6</td>\n",
       "      <td>4</td>\n",
       "      <td>5.0</td>\n",
       "      <td>1</td>\n",
       "      <td>4</td>\n",
       "    </tr>\n",
       "    <tr>\n",
       "      <th>2</th>\n",
       "      <td>7</td>\n",
       "      <td>4</td>\n",
       "      <td>5.0</td>\n",
       "      <td>1</td>\n",
       "      <td>0</td>\n",
       "    </tr>\n",
       "    <tr>\n",
       "      <th>3</th>\n",
       "      <td>6</td>\n",
       "      <td>4</td>\n",
       "      <td>4.0</td>\n",
       "      <td>1</td>\n",
       "      <td>1</td>\n",
       "    </tr>\n",
       "    <tr>\n",
       "      <th>4</th>\n",
       "      <td>6</td>\n",
       "      <td>4</td>\n",
       "      <td>1.0</td>\n",
       "      <td>0</td>\n",
       "      <td>3</td>\n",
       "    </tr>\n",
       "  </tbody>\n",
       "</table>\n",
       "</div>"
      ],
      "text/plain": [
       "   Age  Condition  Effectiveness  Sex  SideEffects\n",
       "0    8          4            4.0    0            4\n",
       "1    6          4            5.0    1            4\n",
       "2    7          4            5.0    1            0\n",
       "3    6          4            4.0    1            1\n",
       "4    6          4            1.0    0            3"
      ]
     },
     "execution_count": 113,
     "metadata": {},
     "output_type": "execute_result"
    }
   ],
   "source": [
    "data_new.head()"
   ]
  },
  {
   "cell_type": "markdown",
   "id": "3e6be06f",
   "metadata": {},
   "source": [
    "# Splitting the data"
   ]
  },
  {
   "cell_type": "markdown",
   "id": "0551798a",
   "metadata": {},
   "source": [
    "**Selecting the most important and relevent features with respect to the target column for modelling**"
   ]
  },
  {
   "cell_type": "code",
   "execution_count": 114,
   "id": "5b947a0c",
   "metadata": {},
   "outputs": [],
   "source": [
    "#target\n",
    "\n",
    "y = data_new['SideEffects']"
   ]
  },
  {
   "cell_type": "code",
   "execution_count": 115,
   "id": "11cda712",
   "metadata": {},
   "outputs": [],
   "source": [
    "X = data_new.drop(['SideEffects'],axis=1)"
   ]
  },
  {
   "cell_type": "code",
   "execution_count": 116,
   "id": "45975144",
   "metadata": {},
   "outputs": [
    {
     "data": {
      "text/plain": [
       "(3193, 4)"
      ]
     },
     "execution_count": 116,
     "metadata": {},
     "output_type": "execute_result"
    }
   ],
   "source": [
    "X.shape"
   ]
  },
  {
   "cell_type": "code",
   "execution_count": 117,
   "id": "2acb2bf5",
   "metadata": {},
   "outputs": [
    {
     "data": {
      "text/html": [
       "<div>\n",
       "<style scoped>\n",
       "    .dataframe tbody tr th:only-of-type {\n",
       "        vertical-align: middle;\n",
       "    }\n",
       "\n",
       "    .dataframe tbody tr th {\n",
       "        vertical-align: top;\n",
       "    }\n",
       "\n",
       "    .dataframe thead th {\n",
       "        text-align: right;\n",
       "    }\n",
       "</style>\n",
       "<table border=\"1\" class=\"dataframe\">\n",
       "  <thead>\n",
       "    <tr style=\"text-align: right;\">\n",
       "      <th></th>\n",
       "      <th>Age</th>\n",
       "      <th>Condition</th>\n",
       "      <th>Effectiveness</th>\n",
       "      <th>Sex</th>\n",
       "    </tr>\n",
       "  </thead>\n",
       "  <tbody>\n",
       "    <tr>\n",
       "      <th>0</th>\n",
       "      <td>8</td>\n",
       "      <td>4</td>\n",
       "      <td>4.0</td>\n",
       "      <td>0</td>\n",
       "    </tr>\n",
       "    <tr>\n",
       "      <th>1</th>\n",
       "      <td>6</td>\n",
       "      <td>4</td>\n",
       "      <td>5.0</td>\n",
       "      <td>1</td>\n",
       "    </tr>\n",
       "    <tr>\n",
       "      <th>2</th>\n",
       "      <td>7</td>\n",
       "      <td>4</td>\n",
       "      <td>5.0</td>\n",
       "      <td>1</td>\n",
       "    </tr>\n",
       "    <tr>\n",
       "      <th>3</th>\n",
       "      <td>6</td>\n",
       "      <td>4</td>\n",
       "      <td>4.0</td>\n",
       "      <td>1</td>\n",
       "    </tr>\n",
       "    <tr>\n",
       "      <th>4</th>\n",
       "      <td>6</td>\n",
       "      <td>4</td>\n",
       "      <td>1.0</td>\n",
       "      <td>0</td>\n",
       "    </tr>\n",
       "  </tbody>\n",
       "</table>\n",
       "</div>"
      ],
      "text/plain": [
       "   Age  Condition  Effectiveness  Sex\n",
       "0    8          4            4.0    0\n",
       "1    6          4            5.0    1\n",
       "2    7          4            5.0    1\n",
       "3    6          4            4.0    1\n",
       "4    6          4            1.0    0"
      ]
     },
     "execution_count": 117,
     "metadata": {},
     "output_type": "execute_result"
    }
   ],
   "source": [
    "X.head()"
   ]
  },
  {
   "cell_type": "code",
   "execution_count": 118,
   "id": "cacbff44",
   "metadata": {},
   "outputs": [
    {
     "data": {
      "text/plain": [
       "0    4\n",
       "1    4\n",
       "2    0\n",
       "3    1\n",
       "4    3\n",
       "Name: SideEffects, dtype: int32"
      ]
     },
     "execution_count": 118,
     "metadata": {},
     "output_type": "execute_result"
    }
   ],
   "source": [
    "y.head()"
   ]
  },
  {
   "cell_type": "markdown",
   "id": "4ebff6ff",
   "metadata": {},
   "source": [
    "**Splitting the dataset into train and test sets**"
   ]
  },
  {
   "cell_type": "code",
   "execution_count": 119,
   "id": "b80e29a0",
   "metadata": {},
   "outputs": [],
   "source": [
    "#Importing train_test_split from the sklearn.model_selection library and \n",
    "#splitting the data,by keeping 80% of the data in train dataset and the rest 20% in test dataset\n",
    "\n",
    "from sklearn.model_selection import train_test_split\n",
    "X_train,X_test,y_train,y_test = train_test_split(X,y, random_state=42,test_size=0.2)"
   ]
  },
  {
   "cell_type": "code",
   "execution_count": 120,
   "id": "38fa8680",
   "metadata": {},
   "outputs": [
    {
     "data": {
      "text/plain": [
       "(2554, 4)"
      ]
     },
     "execution_count": 120,
     "metadata": {},
     "output_type": "execute_result"
    }
   ],
   "source": [
    "X_train.shape"
   ]
  },
  {
   "cell_type": "code",
   "execution_count": 121,
   "id": "dfabb56d",
   "metadata": {},
   "outputs": [
    {
     "data": {
      "text/plain": [
       "(639, 4)"
      ]
     },
     "execution_count": 121,
     "metadata": {},
     "output_type": "execute_result"
    }
   ],
   "source": [
    "X_test.shape"
   ]
  },
  {
   "cell_type": "code",
   "execution_count": 122,
   "id": "27b2175a",
   "metadata": {},
   "outputs": [
    {
     "data": {
      "text/plain": [
       "(2554,)"
      ]
     },
     "execution_count": 122,
     "metadata": {},
     "output_type": "execute_result"
    }
   ],
   "source": [
    "y_train.shape"
   ]
  },
  {
   "cell_type": "code",
   "execution_count": 123,
   "id": "a5d2f757",
   "metadata": {},
   "outputs": [
    {
     "data": {
      "text/plain": [
       "(639,)"
      ]
     },
     "execution_count": 123,
     "metadata": {},
     "output_type": "execute_result"
    }
   ],
   "source": [
    "y_test.shape"
   ]
  },
  {
   "cell_type": "markdown",
   "id": "ecd00c43",
   "metadata": {},
   "source": [
    "# Model Building"
   ]
  },
  {
   "cell_type": "markdown",
   "id": "41e33ba6",
   "metadata": {},
   "source": [
    "## 1. Logistic Regression Model"
   ]
  },
  {
   "cell_type": "code",
   "execution_count": 124,
   "id": "5901f94b",
   "metadata": {},
   "outputs": [],
   "source": [
    "from sklearn.linear_model import LogisticRegression\n",
    "logit_model = LogisticRegression(multi_class='multinomial')\n",
    "logit_model.fit(X_train, y_train)\n",
    "y_pred = logit_model.predict(X_test)"
   ]
  },
  {
   "cell_type": "code",
   "execution_count": 125,
   "id": "9a8e1e87",
   "metadata": {},
   "outputs": [],
   "source": [
    "from sklearn.metrics import confusion_matrix, accuracy_score, precision_score,recall_score,f1_score,classification_report"
   ]
  },
  {
   "cell_type": "markdown",
   "id": "2bc20d33",
   "metadata": {},
   "source": [
    "**Performance Evaluation**"
   ]
  },
  {
   "cell_type": "code",
   "execution_count": 126,
   "id": "02bb58c1",
   "metadata": {},
   "outputs": [
    {
     "name": "stdout",
     "output_type": "stream",
     "text": [
      "Accuracy is :  53.834115805946794\n"
     ]
    }
   ],
   "source": [
    "print(\"Accuracy is : \", accuracy_score(y_test, y_pred)*100)"
   ]
  },
  {
   "cell_type": "markdown",
   "id": "a71d8b10",
   "metadata": {},
   "source": [
    "**Confusion Matrix of Logistic Regression Model**"
   ]
  },
  {
   "cell_type": "code",
   "execution_count": 127,
   "id": "fbe640ee",
   "metadata": {},
   "outputs": [
    {
     "data": {
      "text/plain": [
       "array([[ 77,   0,   5,  14,   2],\n",
       "       [  9,   0,   5,  80,   5],\n",
       "       [ 14,   0,  10,  67,   6],\n",
       "       [ 20,   0,   1, 241,   8],\n",
       "       [ 17,   0,   8,  34,  16]], dtype=int64)"
      ]
     },
     "execution_count": 127,
     "metadata": {},
     "output_type": "execute_result"
    }
   ],
   "source": [
    "confusion_matrix(y_test,y_pred)"
   ]
  },
  {
   "cell_type": "markdown",
   "id": "a480a74b",
   "metadata": {},
   "source": [
    "## 2. KNN Model"
   ]
  },
  {
   "cell_type": "code",
   "execution_count": 128,
   "id": "f30075c6",
   "metadata": {},
   "outputs": [],
   "source": [
    "from sklearn.neighbors import KNeighborsClassifier"
   ]
  },
  {
   "cell_type": "code",
   "execution_count": 129,
   "id": "78cc5806",
   "metadata": {},
   "outputs": [],
   "source": [
    "acc_values = []\n",
    "neighbors = np.arange(3,15)\n",
    "\n",
    "# creating a loop to create KNN model for each K value\n",
    "for k in neighbors:\n",
    "#taking the instance of KNN to a variable.the variable name is classifier.\n",
    "    classifier = KNeighborsClassifier(n_neighbors= k, metric = 'minkowski')    #no: of neighbors n the methode to measure the distance .instance is created\n",
    "#we have to create the model.\n",
    "    classifier = KNeighborsClassifier(n_neighbors= k)\n",
    "    classifier.fit(X_train,y_train)\n",
    "#have to predict output using this model.\n",
    "    y_pred = classifier.predict(X_test)#KNN is created\n",
    "#append the accurcy values to empty list in order to fing out maximum accuracy.\n",
    "    acc = accuracy_score(y_test, y_pred)#taking accuracy values to variable acc \n",
    "#append these accuracy values to our list\n",
    "    acc_values.append(acc)"
   ]
  },
  {
   "cell_type": "code",
   "execution_count": 130,
   "id": "93b79edb",
   "metadata": {},
   "outputs": [
    {
     "data": {
      "text/plain": [
       "[0.5039123630672926,\n",
       " 0.513302034428795,\n",
       " 0.5070422535211268,\n",
       " 0.5070422535211268,\n",
       " 0.5039123630672926,\n",
       " 0.514866979655712,\n",
       " 0.5179968701095462,\n",
       " 0.514866979655712,\n",
       " 0.5101721439749609,\n",
       " 0.5367762128325508,\n",
       " 0.5211267605633803,\n",
       " 0.5226917057902973]"
      ]
     },
     "execution_count": 130,
     "metadata": {},
     "output_type": "execute_result"
    }
   ],
   "source": [
    "acc_values"
   ]
  },
  {
   "cell_type": "markdown",
   "id": "68811ed0",
   "metadata": {},
   "source": [
    "**To find which k value got the highest accuracy, plotted a graph between neighbor values (i.e. k values) and accuracy values**"
   ]
  },
  {
   "cell_type": "code",
   "execution_count": 131,
   "id": "aa3a7416",
   "metadata": {},
   "outputs": [
    {
     "data": {
      "text/plain": [
       "Text(0, 0.5, 'accuracy')"
      ]
     },
     "execution_count": 131,
     "metadata": {},
     "output_type": "execute_result"
    },
    {
     "data": {
      "image/png": "[encoded data removed]",
      "text/plain": [
       "<Figure size 640x480 with 1 Axes>"
      ]
     },
     "metadata": {},
     "output_type": "display_data"
    }
   ],
   "source": [
    "plt.plot(neighbors,acc_values,'o-')\n",
    "plt.xlabel('k value')\n",
    "plt.ylabel('accuracy')"
   ]
  },
  {
   "cell_type": "markdown",
   "id": "a0f94ba4",
   "metadata": {},
   "source": [
    "**KNN model with k=14**"
   ]
  },
  {
   "cell_type": "code",
   "execution_count": 132,
   "id": "9043339f",
   "metadata": {},
   "outputs": [],
   "source": [
    "classifier = KNeighborsClassifier(n_neighbors= 14, metric = 'minkowski')\n",
    "classifier.fit(X_train,y_train)\n",
    "y_pred = classifier.predict(X_test)"
   ]
  },
  {
   "cell_type": "markdown",
   "id": "571d2782",
   "metadata": {},
   "source": [
    "**Performance Evaluation**"
   ]
  },
  {
   "cell_type": "code",
   "execution_count": 133,
   "id": "0c0de1c7",
   "metadata": {},
   "outputs": [
    {
     "name": "stdout",
     "output_type": "stream",
     "text": [
      "Accuracy is :  52.26917057902973\n"
     ]
    }
   ],
   "source": [
    "print(\"Accuracy is : \", accuracy_score(y_test, y_pred)*100)"
   ]
  },
  {
   "cell_type": "markdown",
   "id": "36391d05",
   "metadata": {},
   "source": [
    "**Confusion Matrix for KNN Classifier**"
   ]
  },
  {
   "cell_type": "code",
   "execution_count": 134,
   "id": "ebc992fa",
   "metadata": {},
   "outputs": [
    {
     "data": {
      "text/plain": [
       "array([[ 78,   6,   1,   7,   6],\n",
       "       [ 11,  13,  19,  51,   5],\n",
       "       [ 14,  16,  21,  34,  12],\n",
       "       [ 20,  23,  16, 206,   5],\n",
       "       [ 18,   6,   7,  28,  16]], dtype=int64)"
      ]
     },
     "execution_count": 134,
     "metadata": {},
     "output_type": "execute_result"
    }
   ],
   "source": [
    "confusion_matrix(y_test,y_pred)"
   ]
  },
  {
   "cell_type": "markdown",
   "id": "49ae6c6f",
   "metadata": {},
   "source": [
    "## 3. Decision Tree Classifier"
   ]
  },
  {
   "cell_type": "code",
   "execution_count": 135,
   "id": "a6537721",
   "metadata": {},
   "outputs": [],
   "source": [
    "from sklearn.tree import DecisionTreeClassifier\n",
    "dt_model = DecisionTreeClassifier()\n",
    "dt_model.fit(X_train,y_train)\n",
    "y_pred = dt_model.predict(X_test)"
   ]
  },
  {
   "cell_type": "markdown",
   "id": "029bc75e",
   "metadata": {},
   "source": [
    "**Performance Evaluation**"
   ]
  },
  {
   "cell_type": "code",
   "execution_count": 136,
   "id": "7c30ab84",
   "metadata": {},
   "outputs": [
    {
     "name": "stdout",
     "output_type": "stream",
     "text": [
      "Accuracy is :  55.08607198748044\n"
     ]
    }
   ],
   "source": [
    "print(\"Accuracy is : \", accuracy_score(y_test, y_pred)*100)"
   ]
  },
  {
   "cell_type": "markdown",
   "id": "36088eef",
   "metadata": {},
   "source": [
    "**Confusion Matrix of Decision Tree Model**"
   ]
  },
  {
   "cell_type": "markdown",
   "id": "d27c12e2",
   "metadata": {},
   "source": [
    "## 4. Support Vector Machine"
   ]
  },
  {
   "cell_type": "markdown",
   "id": "3a9ecb6b",
   "metadata": {},
   "source": [
    "### a. Linear SVM"
   ]
  },
  {
   "cell_type": "code",
   "execution_count": 137,
   "id": "3359c0d1",
   "metadata": {},
   "outputs": [],
   "source": [
    "from sklearn.svm import SVC\n",
    "svm_linear = SVC(kernel = 'linear')      #creating an instance\n",
    "svm_linear.fit(X_train,y_train)\n",
    "y_pred = svm_linear.predict(X_test)"
   ]
  },
  {
   "cell_type": "markdown",
   "id": "e899264d",
   "metadata": {},
   "source": [
    "**Performance Evaluation**"
   ]
  },
  {
   "cell_type": "code",
   "execution_count": 138,
   "id": "4fe32c46",
   "metadata": {},
   "outputs": [
    {
     "name": "stdout",
     "output_type": "stream",
     "text": [
      "Accuracy is :  53.52112676056338\n"
     ]
    }
   ],
   "source": [
    "print(\"Accuracy is : \", accuracy_score(y_test, y_pred)*100)"
   ]
  },
  {
   "cell_type": "markdown",
   "id": "ed00b527",
   "metadata": {},
   "source": [
    "**Confusion Matrix of Linear SVM Model**"
   ]
  },
  {
   "cell_type": "code",
   "execution_count": 139,
   "id": "5fcfd421",
   "metadata": {},
   "outputs": [
    {
     "data": {
      "text/plain": [
       "array([[ 77,   0,   1,  15,   5],\n",
       "       [  9,   0,   3,  80,   7],\n",
       "       [ 14,   0,   1,  66,  16],\n",
       "       [ 20,   0,   0, 241,   9],\n",
       "       [ 17,   0,   0,  35,  23]], dtype=int64)"
      ]
     },
     "execution_count": 139,
     "metadata": {},
     "output_type": "execute_result"
    }
   ],
   "source": [
    "confusion_matrix(y_test,y_pred)"
   ]
  },
  {
   "cell_type": "markdown",
   "id": "72db0f72",
   "metadata": {},
   "source": [
    "### b. Polynomial SVM"
   ]
  },
  {
   "cell_type": "code",
   "execution_count": 140,
   "id": "79f9ed96",
   "metadata": {},
   "outputs": [],
   "source": [
    "svm_poly = SVC(kernel = 'poly', degree=3)\n",
    "svm_poly.fit(X_train,y_train)\n",
    "y_pred = svm_poly.predict(X_test)"
   ]
  },
  {
   "cell_type": "markdown",
   "id": "a903076a",
   "metadata": {},
   "source": [
    "**Performance Evaluation**"
   ]
  },
  {
   "cell_type": "code",
   "execution_count": 141,
   "id": "7f92f427",
   "metadata": {},
   "outputs": [
    {
     "name": "stdout",
     "output_type": "stream",
     "text": [
      "Accuracy is :  54.460093896713616\n"
     ]
    }
   ],
   "source": [
    "print(\"Accuracy is : \", accuracy_score(y_test, y_pred)*100)"
   ]
  },
  {
   "cell_type": "markdown",
   "id": "bd1a182f",
   "metadata": {},
   "source": [
    "**Confusion Matrix of Linear SVM Model**"
   ]
  },
  {
   "cell_type": "code",
   "execution_count": 142,
   "id": "ab81f0f6",
   "metadata": {},
   "outputs": [
    {
     "data": {
      "text/plain": [
       "array([[ 77,   0,   5,  14,   2],\n",
       "       [  9,   2,   8,  74,   6],\n",
       "       [ 14,   2,   9,  63,   9],\n",
       "       [ 20,   0,   1, 241,   8],\n",
       "       [ 17,   2,   5,  32,  19]], dtype=int64)"
      ]
     },
     "execution_count": 142,
     "metadata": {},
     "output_type": "execute_result"
    }
   ],
   "source": [
    "confusion_matrix(y_test,y_pred)"
   ]
  },
  {
   "cell_type": "markdown",
   "id": "b0c9c087",
   "metadata": {},
   "source": [
    "### c. Radial SVM"
   ]
  },
  {
   "cell_type": "code",
   "execution_count": 143,
   "id": "67d64800",
   "metadata": {},
   "outputs": [],
   "source": [
    "svm_radial = SVC(kernel='rbf')\n",
    "svm_radial.fit(X_train,y_train)\n",
    "y_pred=svm_radial.predict(X_test)"
   ]
  },
  {
   "cell_type": "markdown",
   "id": "d664ffee",
   "metadata": {},
   "source": [
    "**Performance Evaluation**"
   ]
  },
  {
   "cell_type": "code",
   "execution_count": 144,
   "id": "7daea096",
   "metadata": {},
   "outputs": [
    {
     "name": "stdout",
     "output_type": "stream",
     "text": [
      "Accuracy is :  54.61658841940532\n"
     ]
    }
   ],
   "source": [
    "print(\"Accuracy is : \", accuracy_score(y_test, y_pred)*100)"
   ]
  },
  {
   "cell_type": "markdown",
   "id": "aa327a42",
   "metadata": {},
   "source": [
    "**Confusion Matrix of Linear SVM Model**"
   ]
  },
  {
   "cell_type": "code",
   "execution_count": 145,
   "id": "375cf40a",
   "metadata": {},
   "outputs": [
    {
     "data": {
      "text/plain": [
       "array([[ 77,   0,   1,  13,   7],\n",
       "       [  9,   0,   6,  75,   9],\n",
       "       [ 14,   0,   8,  59,  16],\n",
       "       [ 20,   0,   0, 241,   9],\n",
       "       [ 17,   0,   3,  32,  23]], dtype=int64)"
      ]
     },
     "execution_count": 145,
     "metadata": {},
     "output_type": "execute_result"
    }
   ],
   "source": [
    "confusion_matrix(y_test,y_pred)"
   ]
  },
  {
   "cell_type": "markdown",
   "id": "c97da711",
   "metadata": {},
   "source": [
    "## 5. Random Forest"
   ]
  },
  {
   "cell_type": "code",
   "execution_count": 146,
   "id": "26d53ffe",
   "metadata": {},
   "outputs": [],
   "source": [
    "from sklearn.ensemble import RandomForestClassifier\n",
    "rf=RandomForestClassifier()\n",
    "#training the model\n",
    "rf.fit(X_train,y_train)\n",
    "#to make predictions\n",
    "y_pred=rf.predict(X_test)"
   ]
  },
  {
   "cell_type": "markdown",
   "id": "4abb4483",
   "metadata": {},
   "source": [
    "**Performance Evaluation**"
   ]
  },
  {
   "cell_type": "code",
   "execution_count": 147,
   "id": "3a361fc3",
   "metadata": {},
   "outputs": [
    {
     "name": "stdout",
     "output_type": "stream",
     "text": [
      "Accuracy is :  55.08607198748044\n"
     ]
    }
   ],
   "source": [
    "print(\"Accuracy is : \", accuracy_score(y_test, y_pred)*100)"
   ]
  },
  {
   "cell_type": "markdown",
   "id": "5f8d7960",
   "metadata": {},
   "source": [
    "**Confusion Matrix**"
   ]
  },
  {
   "cell_type": "code",
   "execution_count": 148,
   "id": "ca83bf3f",
   "metadata": {},
   "outputs": [
    {
     "data": {
      "text/plain": [
       "array([[ 78,   1,   1,   3,  15],\n",
       "       [  9,   7,  18,  47,  18],\n",
       "       [ 14,   3,  27,  32,  21],\n",
       "       [ 21,   5,  18, 201,  25],\n",
       "       [ 18,   0,  10,   8,  39]], dtype=int64)"
      ]
     },
     "execution_count": 148,
     "metadata": {},
     "output_type": "execute_result"
    }
   ],
   "source": [
    "confusion_matrix(y_test,y_pred)"
   ]
  },
  {
   "cell_type": "markdown",
   "id": "77a590f3",
   "metadata": {},
   "source": [
    "**Feature Importance**"
   ]
  },
  {
   "cell_type": "code",
   "execution_count": 149,
   "id": "e9580fa3",
   "metadata": {},
   "outputs": [
    {
     "data": {
      "text/plain": [
       "Effectiveness    75.222943\n",
       "Age              11.161842\n",
       "Condition        10.616233\n",
       "Sex               2.998982\n",
       "dtype: float64"
      ]
     },
     "execution_count": 149,
     "metadata": {},
     "output_type": "execute_result"
    }
   ],
   "source": [
    "pd.Series(rf.feature_importances_,index=X.columns).sort_values(ascending=False)*100"
   ]
  },
  {
   "cell_type": "markdown",
   "id": "f83a8b77",
   "metadata": {},
   "source": [
    "**Fine Tuning of hyper parameters**"
   ]
  },
  {
   "cell_type": "code",
   "execution_count": 150,
   "id": "9d0a385a",
   "metadata": {},
   "outputs": [
    {
     "data": {
      "text/html": [
       "<style>#sk-container-id-1 {color: black;background-color: white;}#sk-container-id-1 pre{padding: 0;}#sk-container-id-1 div.sk-toggleable {background-color: white;}#sk-container-id-1 label.sk-toggleable__label {cursor: pointer;display: block;width: 100%;margin-bottom: 0;padding: 0.3em;box-sizing: border-box;text-align: center;}#sk-container-id-1 label.sk-toggleable__label-arrow:before {content: \"▸\";float: left;margin-right: 0.25em;color: #696969;}#sk-container-id-1 label.sk-toggleable__label-arrow:hover:before {color: black;}#sk-container-id-1 div.sk-estimator:hover label.sk-toggleable__label-arrow:before {color: black;}#sk-container-id-1 div.sk-toggleable__content {max-height: 0;max-width: 0;overflow: hidden;text-align: left;background-color: #f0f8ff;}#sk-container-id-1 div.sk-toggleable__content pre {margin: 0.2em;color: black;border-radius: 0.25em;background-color: #f0f8ff;}#sk-container-id-1 input.sk-toggleable__control:checked~div.sk-toggleable__content {max-height: 200px;max-width: 100%;overflow: auto;}#sk-container-id-1 input.sk-toggleable__control:checked~label.sk-toggleable__label-arrow:before {content: \"▾\";}#sk-container-id-1 div.sk-estimator input.sk-toggleable__control:checked~label.sk-toggleable__label {background-color: #d4ebff;}#sk-container-id-1 div.sk-label input.sk-toggleable__control:checked~label.sk-toggleable__label {background-color: #d4ebff;}#sk-container-id-1 input.sk-hidden--visually {border: 0;clip: rect(1px 1px 1px 1px);clip: rect(1px, 1px, 1px, 1px);height: 1px;margin: -1px;overflow: hidden;padding: 0;position: absolute;width: 1px;}#sk-container-id-1 div.sk-estimator {font-family: monospace;background-color: #f0f8ff;border: 1px dotted black;border-radius: 0.25em;box-sizing: border-box;margin-bottom: 0.5em;}#sk-container-id-1 div.sk-estimator:hover {background-color: #d4ebff;}#sk-container-id-1 div.sk-parallel-item::after {content: \"\";width: 100%;border-bottom: 1px solid gray;flex-grow: 1;}#sk-container-id-1 div.sk-label:hover label.sk-toggleable__label {background-color: #d4ebff;}#sk-container-id-1 div.sk-serial::before {content: \"\";position: absolute;border-left: 1px solid gray;box-sizing: border-box;top: 0;bottom: 0;left: 50%;z-index: 0;}#sk-container-id-1 div.sk-serial {display: flex;flex-direction: column;align-items: center;background-color: white;padding-right: 0.2em;padding-left: 0.2em;position: relative;}#sk-container-id-1 div.sk-item {position: relative;z-index: 1;}#sk-container-id-1 div.sk-parallel {display: flex;align-items: stretch;justify-content: center;background-color: white;position: relative;}#sk-container-id-1 div.sk-item::before, #sk-container-id-1 div.sk-parallel-item::before {content: \"\";position: absolute;border-left: 1px solid gray;box-sizing: border-box;top: 0;bottom: 0;left: 50%;z-index: -1;}#sk-container-id-1 div.sk-parallel-item {display: flex;flex-direction: column;z-index: 1;position: relative;background-color: white;}#sk-container-id-1 div.sk-parallel-item:first-child::after {align-self: flex-end;width: 50%;}#sk-container-id-1 div.sk-parallel-item:last-child::after {align-self: flex-start;width: 50%;}#sk-container-id-1 div.sk-parallel-item:only-child::after {width: 0;}#sk-container-id-1 div.sk-dashed-wrapped {border: 1px dashed gray;margin: 0 0.4em 0.5em 0.4em;box-sizing: border-box;padding-bottom: 0.4em;background-color: white;}#sk-container-id-1 div.sk-label label {font-family: monospace;font-weight: bold;display: inline-block;line-height: 1.2em;}#sk-container-id-1 div.sk-label-container {text-align: center;}#sk-container-id-1 div.sk-container {/* jupyter's `normalize.less` sets `[hidden] { display: none; }` but bootstrap.min.css set `[hidden] { display: none !important; }` so we also need the `!important` here to be able to override the default hidden behavior on the sphinx rendered scikit-learn.org. See: https://github.com/scikit-learn/scikit-learn/issues/21755 */display: inline-block !important;position: relative;}#sk-container-id-1 div.sk-text-repr-fallback {display: none;}</style><div id=\"sk-container-id-1\" class=\"sk-top-container\"><div class=\"sk-text-repr-fallback\"><pre>RandomForestClassifier()</pre><b>In a Jupyter environment, please rerun this cell to show the HTML representation or trust the notebook. <br />On GitHub, the HTML representation is unable to render, please try loading this page with nbviewer.org.</b></div><div class=\"sk-container\" hidden><div class=\"sk-item\"><div class=\"sk-estimator sk-toggleable\"><input class=\"sk-toggleable__control sk-hidden--visually\" id=\"sk-estimator-id-1\" type=\"checkbox\" checked><label for=\"sk-estimator-id-1\" class=\"sk-toggleable__label sk-toggleable__label-arrow\">RandomForestClassifier</label><div class=\"sk-toggleable__content\"><pre>RandomForestClassifier()</pre></div></div></div></div></div>"
      ],
      "text/plain": [
       "RandomForestClassifier()"
      ]
     },
     "execution_count": 150,
     "metadata": {},
     "output_type": "execute_result"
    }
   ],
   "source": [
    "rf.fit(X_train,y_train)"
   ]
  },
  {
   "cell_type": "code",
   "execution_count": 151,
   "id": "83c784a5",
   "metadata": {},
   "outputs": [],
   "source": [
    "# creating another instance of random forest classifier with some changes in hyperparameter\n",
    "rft= RandomForestClassifier(bootstrap=True, n_estimators=1000,max_depth=8,random_state =42,criterion='entropy')"
   ]
  },
  {
   "cell_type": "code",
   "execution_count": 152,
   "id": "9a224f17",
   "metadata": {},
   "outputs": [
    {
     "data": {
      "text/html": [
       "<style>#sk-container-id-2 {color: black;background-color: white;}#sk-container-id-2 pre{padding: 0;}#sk-container-id-2 div.sk-toggleable {background-color: white;}#sk-container-id-2 label.sk-toggleable__label {cursor: pointer;display: block;width: 100%;margin-bottom: 0;padding: 0.3em;box-sizing: border-box;text-align: center;}#sk-container-id-2 label.sk-toggleable__label-arrow:before {content: \"▸\";float: left;margin-right: 0.25em;color: #696969;}#sk-container-id-2 label.sk-toggleable__label-arrow:hover:before {color: black;}#sk-container-id-2 div.sk-estimator:hover label.sk-toggleable__label-arrow:before {color: black;}#sk-container-id-2 div.sk-toggleable__content {max-height: 0;max-width: 0;overflow: hidden;text-align: left;background-color: #f0f8ff;}#sk-container-id-2 div.sk-toggleable__content pre {margin: 0.2em;color: black;border-radius: 0.25em;background-color: #f0f8ff;}#sk-container-id-2 input.sk-toggleable__control:checked~div.sk-toggleable__content {max-height: 200px;max-width: 100%;overflow: auto;}#sk-container-id-2 input.sk-toggleable__control:checked~label.sk-toggleable__label-arrow:before {content: \"▾\";}#sk-container-id-2 div.sk-estimator input.sk-toggleable__control:checked~label.sk-toggleable__label {background-color: #d4ebff;}#sk-container-id-2 div.sk-label input.sk-toggleable__control:checked~label.sk-toggleable__label {background-color: #d4ebff;}#sk-container-id-2 input.sk-hidden--visually {border: 0;clip: rect(1px 1px 1px 1px);clip: rect(1px, 1px, 1px, 1px);height: 1px;margin: -1px;overflow: hidden;padding: 0;position: absolute;width: 1px;}#sk-container-id-2 div.sk-estimator {font-family: monospace;background-color: #f0f8ff;border: 1px dotted black;border-radius: 0.25em;box-sizing: border-box;margin-bottom: 0.5em;}#sk-container-id-2 div.sk-estimator:hover {background-color: #d4ebff;}#sk-container-id-2 div.sk-parallel-item::after {content: \"\";width: 100%;border-bottom: 1px solid gray;flex-grow: 1;}#sk-container-id-2 div.sk-label:hover label.sk-toggleable__label {background-color: #d4ebff;}#sk-container-id-2 div.sk-serial::before {content: \"\";position: absolute;border-left: 1px solid gray;box-sizing: border-box;top: 0;bottom: 0;left: 50%;z-index: 0;}#sk-container-id-2 div.sk-serial {display: flex;flex-direction: column;align-items: center;background-color: white;padding-right: 0.2em;padding-left: 0.2em;position: relative;}#sk-container-id-2 div.sk-item {position: relative;z-index: 1;}#sk-container-id-2 div.sk-parallel {display: flex;align-items: stretch;justify-content: center;background-color: white;position: relative;}#sk-container-id-2 div.sk-item::before, #sk-container-id-2 div.sk-parallel-item::before {content: \"\";position: absolute;border-left: 1px solid gray;box-sizing: border-box;top: 0;bottom: 0;left: 50%;z-index: -1;}#sk-container-id-2 div.sk-parallel-item {display: flex;flex-direction: column;z-index: 1;position: relative;background-color: white;}#sk-container-id-2 div.sk-parallel-item:first-child::after {align-self: flex-end;width: 50%;}#sk-container-id-2 div.sk-parallel-item:last-child::after {align-self: flex-start;width: 50%;}#sk-container-id-2 div.sk-parallel-item:only-child::after {width: 0;}#sk-container-id-2 div.sk-dashed-wrapped {border: 1px dashed gray;margin: 0 0.4em 0.5em 0.4em;box-sizing: border-box;padding-bottom: 0.4em;background-color: white;}#sk-container-id-2 div.sk-label label {font-family: monospace;font-weight: bold;display: inline-block;line-height: 1.2em;}#sk-container-id-2 div.sk-label-container {text-align: center;}#sk-container-id-2 div.sk-container {/* jupyter's `normalize.less` sets `[hidden] { display: none; }` but bootstrap.min.css set `[hidden] { display: none !important; }` so we also need the `!important` here to be able to override the default hidden behavior on the sphinx rendered scikit-learn.org. See: https://github.com/scikit-learn/scikit-learn/issues/21755 */display: inline-block !important;position: relative;}#sk-container-id-2 div.sk-text-repr-fallback {display: none;}</style><div id=\"sk-container-id-2\" class=\"sk-top-container\"><div class=\"sk-text-repr-fallback\"><pre>RandomForestClassifier(criterion=&#x27;entropy&#x27;, max_depth=8, n_estimators=1000,\n",
       "                       random_state=42)</pre><b>In a Jupyter environment, please rerun this cell to show the HTML representation or trust the notebook. <br />On GitHub, the HTML representation is unable to render, please try loading this page with nbviewer.org.</b></div><div class=\"sk-container\" hidden><div class=\"sk-item\"><div class=\"sk-estimator sk-toggleable\"><input class=\"sk-toggleable__control sk-hidden--visually\" id=\"sk-estimator-id-2\" type=\"checkbox\" checked><label for=\"sk-estimator-id-2\" class=\"sk-toggleable__label sk-toggleable__label-arrow\">RandomForestClassifier</label><div class=\"sk-toggleable__content\"><pre>RandomForestClassifier(criterion=&#x27;entropy&#x27;, max_depth=8, n_estimators=1000,\n",
       "                       random_state=42)</pre></div></div></div></div></div>"
      ],
      "text/plain": [
       "RandomForestClassifier(criterion='entropy', max_depth=8, n_estimators=1000,\n",
       "                       random_state=42)"
      ]
     },
     "execution_count": 152,
     "metadata": {},
     "output_type": "execute_result"
    }
   ],
   "source": [
    "rft.fit(X_train,y_train)"
   ]
  },
  {
   "cell_type": "code",
   "execution_count": 153,
   "id": "a69ccbb7",
   "metadata": {},
   "outputs": [],
   "source": [
    "y_pred=rft.predict(X_test)"
   ]
  },
  {
   "cell_type": "code",
   "execution_count": 154,
   "id": "270930bc",
   "metadata": {},
   "outputs": [
    {
     "name": "stdout",
     "output_type": "stream",
     "text": [
      "Accuracy is :  55.712050078247266\n"
     ]
    }
   ],
   "source": [
    "print(\"Accuracy is : \", accuracy_score(y_test, y_pred)*100)"
   ]
  },
  {
   "cell_type": "markdown",
   "id": "247bad55",
   "metadata": {},
   "source": [
    "## 6. Gradient Boosting"
   ]
  },
  {
   "cell_type": "code",
   "execution_count": 155,
   "id": "26f844db",
   "metadata": {},
   "outputs": [],
   "source": [
    "from sklearn.ensemble import GradientBoostingClassifier\n",
    "gb = GradientBoostingClassifier()\n",
    "gb.fit(X_train,y_train)\n",
    "y_pred = gb.predict(X_test)"
   ]
  },
  {
   "cell_type": "markdown",
   "id": "977b00c9",
   "metadata": {},
   "source": [
    "**Performance Evaluation**"
   ]
  },
  {
   "cell_type": "code",
   "execution_count": 156,
   "id": "c30d941e",
   "metadata": {},
   "outputs": [
    {
     "name": "stdout",
     "output_type": "stream",
     "text": [
      "Accuracy is:  55.86854460093896\n"
     ]
    }
   ],
   "source": [
    "print('Accuracy is: ',accuracy_score(y_test,y_pred)*100)"
   ]
  },
  {
   "cell_type": "markdown",
   "id": "a45f517a",
   "metadata": {},
   "source": [
    "**Confusion Matrix**"
   ]
  },
  {
   "cell_type": "code",
   "execution_count": 157,
   "id": "d790b327",
   "metadata": {},
   "outputs": [
    {
     "data": {
      "text/plain": [
       "array([[ 78,   0,   2,   7,  11],\n",
       "       [ 10,   5,  17,  51,  16],\n",
       "       [ 14,   0,  31,  32,  20],\n",
       "       [ 20,   5,  15, 212,  18],\n",
       "       [ 17,   0,   9,  18,  31]], dtype=int64)"
      ]
     },
     "execution_count": 157,
     "metadata": {},
     "output_type": "execute_result"
    }
   ],
   "source": [
    "confusion_matrix(y_test,y_pred)"
   ]
  },
  {
   "cell_type": "markdown",
   "id": "86575dac",
   "metadata": {},
   "source": [
    "## 7. Extreme Gradient Boosting"
   ]
  },
  {
   "cell_type": "code",
   "execution_count": 158,
   "id": "e891a40b",
   "metadata": {},
   "outputs": [
    {
     "name": "stdout",
     "output_type": "stream",
     "text": [
      "Requirement already satisfied: xgboost in c:\\users\\z i m b a\\anaconda3\\lib\\site-packages (2.0.0)\n",
      "Requirement already satisfied: scipy in c:\\users\\z i m b a\\anaconda3\\lib\\site-packages (from xgboost) (1.10.0)\n",
      "Requirement already satisfied: numpy in c:\\users\\z i m b a\\anaconda3\\lib\\site-packages (from xgboost) (1.23.5)\n",
      "Note: you may need to restart the kernel to use updated packages.\n"
     ]
    }
   ],
   "source": [
    "pip install xgboost"
   ]
  },
  {
   "cell_type": "code",
   "execution_count": 159,
   "id": "e5b11979",
   "metadata": {},
   "outputs": [],
   "source": [
    "from xgboost import XGBClassifier\n",
    "#creating an instance\n",
    "xgb=XGBClassifier()\n",
    "xgb.fit(X_train,y_train)\n",
    "y_pred= xgb.predict(X_test)"
   ]
  },
  {
   "cell_type": "markdown",
   "id": "87a051a5",
   "metadata": {},
   "source": [
    "**Performance Evaluation**"
   ]
  },
  {
   "cell_type": "code",
   "execution_count": 160,
   "id": "3c44de77",
   "metadata": {},
   "outputs": [
    {
     "name": "stdout",
     "output_type": "stream",
     "text": [
      "Accuracy is:  55.39906103286385\n"
     ]
    }
   ],
   "source": [
    "print('Accuracy is: ',accuracy_score(y_test,y_pred)*100)"
   ]
  },
  {
   "cell_type": "markdown",
   "id": "a88baf9e",
   "metadata": {},
   "source": [
    "**Confusion Matrix**"
   ]
  },
  {
   "cell_type": "code",
   "execution_count": 161,
   "id": "bf4305b4",
   "metadata": {},
   "outputs": [
    {
     "data": {
      "text/plain": [
       "array([[ 78,   1,   1,   3,  15],\n",
       "       [  9,   8,  14,  49,  19],\n",
       "       [ 14,   3,  27,  32,  21],\n",
       "       [ 20,   6,  16, 202,  26],\n",
       "       [ 18,   0,   9,   9,  39]], dtype=int64)"
      ]
     },
     "execution_count": 161,
     "metadata": {},
     "output_type": "execute_result"
    }
   ],
   "source": [
    "confusion_matrix(y_test,y_pred)"
   ]
  },
  {
   "cell_type": "markdown",
   "id": "d8619034",
   "metadata": {},
   "source": [
    "**Inference:<br>**\n",
    "    \n",
    "**Accuracies of classification models:<br>**\n",
    "\n",
    "1.Logistic Regression -------------- 53.83%\n",
    "\n",
    "2.KNN Model ------------------------- 55.08%\n",
    "\n",
    "3.Decision Tree Classifier --------- 55.08%\n",
    "\n",
    "4.Support Vector Machine:\n",
    "\n",
    "    .Linear SVM -------------------- 53.52%\n",
    "\n",
    "    .Polynomial SVM ---------------- 54.46%\n",
    "\n",
    "    .Radial SVM -------------------- 54.61%\n",
    "\n",
    "5.Random Forest -------------------- 55.08%\n",
    "\n",
    "     Fine-tuning Random Forest ----- 55.71%\n",
    "\n",
    "6.Gradient Boosting ---------------- 55.86%\n",
    "\n",
    "7.Extreme Gradient Boosting ---- 55.55%"
   ]
  },
  {
   "cell_type": "code",
   "execution_count": null,
   "id": "2f560e94",
   "metadata": {},
   "outputs": [],
   "source": []
  }
 ],
 "metadata": {
  "kernelspec": {
   "display_name": "Python 3 (ipykernel)",
   "language": "python",
   "name": "python3"
  },
  "language_info": {
   "codemirror_mode": {
    "name": "ipython",
    "version": 3
   },
   "file_extension": ".py",
   "mimetype": "text/x-python",
   "name": "python",
   "nbconvert_exporter": "python",
   "pygments_lexer": "ipython3",
   "version": "3.10.9"
  }
 },
 "nbformat": 4,
 "nbformat_minor": 5
}
